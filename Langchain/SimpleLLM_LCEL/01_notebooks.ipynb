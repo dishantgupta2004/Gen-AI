{
 "cells": [
  {
   "cell_type": "code",
   "execution_count": 2,
   "id": "02a73732",
   "metadata": {},
   "outputs": [],
   "source": [
    "import os\n",
    "from groq import Groq\n",
    "from dotenv import load_dotenv\n",
    "\n",
    "load_dotenv()\n",
    "\n",
    "client = Groq(\n",
    "    api_key=os.environ.get('GROQ_API_KEY'),\n",
    ")\n",
    "\n",
    "chat_completion = client.chat.completions.create(\n",
    "    messages=[\n",
    "        {\n",
    "            \"role\": \"user\",\n",
    "            \"content\": \"Explain me computational physics method?\",\n",
    "        }\n",
    "    ],\n",
    "    model= 'llama-3.3-70b-versatile'\n",
    ")"
   ]
  },
  {
   "cell_type": "code",
   "execution_count": 9,
   "id": "e117c8b1",
   "metadata": {},
   "outputs": [
    {
     "name": "stdout",
     "output_type": "stream",
     "text": [
      "Computational physics is a subfield of physics that uses numerical methods and computational algorithms to solve physical problems. It involves the development and application of computational models and algorithms to simulate and analyze physical systems, often using high-performance computing techniques.\n",
      "\n",
      "**Methods used in Computational Physics:**\n",
      "\n",
      "1. **Numerical Analysis**: Computational physics relies heavily on numerical analysis, which involves approximating mathematical functions and solving equations using numerical methods.\n",
      "2. **Finite Difference Methods**: These methods approximate derivatives and integrals using finite differences, which are differences between values at discrete points.\n",
      "3. **Finite Element Methods**: These methods discretize a problem into smaller elements and solve the equations using a variational formulation.\n",
      "4. **Monte Carlo Methods**: These methods use random sampling to solve problems, often by simulating multiple scenarios and averaging the results.\n",
      "5. **Molecular Dynamics**: This method simulates the behavior of atoms and molecules by solving the equations of motion for each particle.\n",
      "6. **Computational Fluid Dynamics**: This method simulates the behavior of fluids by solving the Navier-Stokes equations.\n",
      "7. **Quantum Mechanics**: Computational physics uses various methods, such as the Hartree-Fock method, to solve the Schrödinger equation and simulate the behavior of quantum systems.\n",
      "\n",
      "**Steps involved in Computational Physics:**\n",
      "\n",
      "1. **Formulation of the problem**: Define the physical problem to be solved, including the relevant equations and boundary conditions.\n",
      "2. **Discretization**: Discretize the problem into a finite number of variables, often using finite difference or finite element methods.\n",
      "3. **Numerical solution**: Solve the discretized equations using numerical methods, such as iterative solvers or direct solvers.\n",
      "4. **Verification and validation**: Verify that the numerical solution is accurate and valid by comparing it to analytical solutions or experimental data.\n",
      "5. **Visualization and analysis**: Visualize and analyze the results to understand the physical behavior of the system.\n",
      "\n",
      "**Applications of Computational Physics:**\n",
      "\n",
      "1. **Materials Science**: Computational physics is used to simulate the behavior of materials, including their mechanical, thermal, and electrical properties.\n",
      "2. **Fluid Dynamics**: Computational physics is used to simulate the behavior of fluids, including ocean currents, weather patterns, and blood flow.\n",
      "3. **Quantum Mechanics**: Computational physics is used to simulate the behavior of quantum systems, including atoms, molecules, and solids.\n",
      "4. **Nuclear Physics**: Computational physics is used to simulate the behavior of nuclear reactions, including nuclear fission and fusion.\n",
      "5. **Biophysics**: Computational physics is used to simulate the behavior of biological systems, including protein folding and cell signaling.\n",
      "\n",
      "**Software used in Computational Physics:**\n",
      "\n",
      "1. **MATLAB**: A high-level programming language and environment for numerical computation and data analysis.\n",
      "2. **Python**: A general-purpose programming language often used for computational physics, particularly with libraries such as NumPy and SciPy.\n",
      "3. **Fortran**: A programming language often used for high-performance computing and computational physics.\n",
      "4. **C++**: A programming language often used for computational physics, particularly for large-scale simulations.\n",
      "5. **Specialized software**: Such as Gaussian, Quantum Espresso, and LAMMPS, which are designed for specific applications in computational physics.\n"
     ]
    }
   ],
   "source": [
    "print(chat_completion.choices[0].message.content)"
   ]
  },
  {
   "cell_type": "code",
   "execution_count": 7,
   "id": "fe69d1b3",
   "metadata": {},
   "outputs": [
    {
     "data": {
      "text/plain": [
       "list"
      ]
     },
     "execution_count": 7,
     "metadata": {},
     "output_type": "execute_result"
    }
   ],
   "source": [
    "type(chat_completion.choices)"
   ]
  },
  {
   "cell_type": "code",
   "execution_count": 8,
   "id": "91e2f3af",
   "metadata": {},
   "outputs": [
    {
     "data": {
      "text/plain": [
       "1"
      ]
     },
     "execution_count": 8,
     "metadata": {},
     "output_type": "execute_result"
    }
   ],
   "source": [
    "len(chat_completion.choices)"
   ]
  },
  {
   "cell_type": "code",
   "execution_count": 10,
   "id": "7777649f",
   "metadata": {},
   "outputs": [],
   "source": [
    "groq_api_key=os.getenv(\"GROQ_API_KEY\")"
   ]
  },
  {
   "cell_type": "code",
   "execution_count": 11,
   "id": "29d23aed",
   "metadata": {},
   "outputs": [
    {
     "data": {
      "text/plain": [
       "ChatGroq(client=<groq.resources.chat.completions.Completions object at 0x000002694BE3CB50>, async_client=<groq.resources.chat.completions.AsyncCompletions object at 0x000002694BE3D450>, model_name='Gemma2-9b-It', model_kwargs={}, groq_api_key=SecretStr('**********'))"
      ]
     },
     "execution_count": 11,
     "metadata": {},
     "output_type": "execute_result"
    }
   ],
   "source": [
    "from langchain_groq import ChatGroq\n",
    "from langchain_openai import ChatOpenAI\n",
    "model = ChatGroq(model= 'Gemma2-9b-It', groq_api_key=groq_api_key)\n",
    "\n",
    "model"
   ]
  },
  {
   "cell_type": "code",
   "execution_count": 12,
   "id": "1e8c69b5",
   "metadata": {},
   "outputs": [],
   "source": [
    "from langchain_core.messages import HumanMessage, SystemMessage\n",
    "\n",
    "messages = [\n",
    "    SystemMessage(content= \"Translate the following from english to hindi\"),\n",
    "    HumanMessage(content=\"Hello, how are you?\"),\n",
    "]\n",
    "\n",
    "result = model.invoke(messages)\n"
   ]
  },
  {
   "cell_type": "code",
   "execution_count": 13,
   "id": "d52708e9",
   "metadata": {},
   "outputs": [
    {
     "data": {
      "text/plain": [
       "AIMessage(content='नमस्ते, आप कैसे हैं? \\n\\n(Namaste, aap kaise hain?) \\n\\nThis translates directly to \"Hello, how are you?\" \\n\\n\\nLet me know if you have any other phrases you\\'d like translated! 😊\\n', additional_kwargs={}, response_metadata={'token_usage': {'completion_tokens': 54, 'prompt_tokens': 22, 'total_tokens': 76, 'completion_time': 0.098181818, 'prompt_time': 0.002119985, 'queue_time': 0.257418544, 'total_time': 0.100301803}, 'model_name': 'Gemma2-9b-It', 'system_fingerprint': 'fp_10c08bf97d', 'finish_reason': 'stop', 'logprobs': None}, id='run--5ba0bda9-d2fa-45ef-85cf-adca0deecb8e-0', usage_metadata={'input_tokens': 22, 'output_tokens': 54, 'total_tokens': 76})"
      ]
     },
     "execution_count": 13,
     "metadata": {},
     "output_type": "execute_result"
    }
   ],
   "source": [
    "result"
   ]
  },
  {
   "cell_type": "code",
   "execution_count": 14,
   "id": "a004e152",
   "metadata": {},
   "outputs": [
    {
     "data": {
      "text/plain": [
       "'नमस्ते, आप कैसे हैं? \\n\\n(Namaste, aap kaise hain?) \\n\\nThis translates directly to \"Hello, how are you?\" \\n\\n\\nLet me know if you have any other phrases you\\'d like translated! 😊\\n'"
      ]
     },
     "execution_count": 14,
     "metadata": {},
     "output_type": "execute_result"
    }
   ],
   "source": [
    "from langchain_core.output_parsers import StrOutputParser\n",
    "parser = StrOutputParser()\n",
    "parser.invoke(result)"
   ]
  },
  {
   "cell_type": "code",
   "execution_count": 15,
   "id": "9b8994f7",
   "metadata": {},
   "outputs": [
    {
     "data": {
      "text/plain": [
       "'नमस्ते, आप कैसे हैं? (Namaste, aap kaise hain?) \\n'"
      ]
     },
     "execution_count": 15,
     "metadata": {},
     "output_type": "execute_result"
    }
   ],
   "source": [
    "### using LCEL -- Chain the componets\n",
    "chain = model | parser\n",
    "chain.invoke(messages)"
   ]
  },
  {
   "cell_type": "code",
   "execution_count": 16,
   "id": "cfa34a73",
   "metadata": {},
   "outputs": [],
   "source": [
    "### Prompt Templates\n",
    "from langchain_core.prompts import ChatPromptTemplate\n",
    "\n",
    "generic_template=\"Trnaslate the following into {language}:\"\n",
    "\n",
    "prompt=ChatPromptTemplate.from_messages(\n",
    "    [(\"system\",generic_template),(\"user\",\"{text}\")]\n",
    ")\n",
    "\n"
   ]
  },
  {
   "cell_type": "code",
   "execution_count": 17,
   "id": "796f729e",
   "metadata": {},
   "outputs": [],
   "source": [
    "result=prompt.invoke({\"language\":\"French\",\"text\":\"Hello\"})"
   ]
  },
  {
   "cell_type": "code",
   "execution_count": 18,
   "id": "33792b49",
   "metadata": {},
   "outputs": [
    {
     "data": {
      "text/plain": [
       "[SystemMessage(content='Trnaslate the following into French:', additional_kwargs={}, response_metadata={}),\n",
       " HumanMessage(content='Hello', additional_kwargs={}, response_metadata={})]"
      ]
     },
     "execution_count": 18,
     "metadata": {},
     "output_type": "execute_result"
    }
   ],
   "source": [
    "result.to_messages()"
   ]
  },
  {
   "cell_type": "code",
   "execution_count": 19,
   "id": "24915347",
   "metadata": {},
   "outputs": [
    {
     "data": {
      "text/plain": [
       "'Bonjour \\n'"
      ]
     },
     "execution_count": 19,
     "metadata": {},
     "output_type": "execute_result"
    }
   ],
   "source": [
    "##Chaining together components with LCEL\n",
    "chain=prompt|model|parser\n",
    "chain.invoke({\"language\":\"French\",\"text\":\"Hello\"})"
   ]
  },
  {
   "cell_type": "code",
   "execution_count": null,
   "id": "f3c36422",
   "metadata": {},
   "outputs": [],
   "source": []
  }
 ],
 "metadata": {
  "kernelspec": {
   "display_name": "Python 3",
   "language": "python",
   "name": "python3"
  },
  "language_info": {
   "codemirror_mode": {
    "name": "ipython",
    "version": 3
   },
   "file_extension": ".py",
   "mimetype": "text/x-python",
   "name": "python",
   "nbconvert_exporter": "python",
   "pygments_lexer": "ipython3",
   "version": "3.10.16"
  }
 },
 "nbformat": 4,
 "nbformat_minor": 5
}
