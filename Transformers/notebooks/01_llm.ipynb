{
 "cells": [
  {
   "cell_type": "code",
   "execution_count": 14,
   "id": "a6b51491",
   "metadata": {},
   "outputs": [
    {
     "name": "stderr",
     "output_type": "stream",
     "text": [
      "d:\\Documents\\Deep_Learning\\Generative-Adversarial-Networks\\Transformers\\venv\\lib\\site-packages\\tqdm\\auto.py:21: TqdmWarning: IProgress not found. Please update jupyter and ipywidgets. See https://ipywidgets.readthedocs.io/en/stable/user_install.html\n",
      "  from .autonotebook import tqdm as notebook_tqdm\n",
      "d:\\Documents\\Deep_Learning\\Generative-Adversarial-Networks\\Transformers\\venv\\lib\\site-packages\\huggingface_hub\\file_download.py:143: UserWarning: `huggingface_hub` cache-system uses symlinks by default to efficiently store duplicated files but your machine does not support them in C:\\Users\\disha\\.cache\\huggingface\\hub\\datasets--cfilt--iitb-english-hindi. Caching files will still work but in a degraded version that might require more space on your disk. This warning can be disabled by setting the `HF_HUB_DISABLE_SYMLINKS_WARNING` environment variable. For more details, see https://huggingface.co/docs/huggingface_hub/how-to-cache#limitations.\n",
      "To support symlinks on Windows, you either need to activate Developer Mode or to run Python as an administrator. In order to activate developer mode, see this article: https://docs.microsoft.com/en-us/windows/apps/get-started/enable-your-device-for-development\n",
      "  warnings.warn(message)\n",
      "Generating train split: 100%|██████████| 1659083/1659083 [00:00<00:00, 1693494.71 examples/s]\n",
      "Generating validation split: 100%|██████████| 520/520 [00:00<00:00, 198745.95 examples/s]\n",
      "Generating test split: 100%|██████████| 2507/2507 [00:00<00:00, 299158.44 examples/s]\n"
     ]
    }
   ],
   "source": [
    "from datasets import load_dataset\n",
    "\n",
    "ds = load_dataset(\"cfilt/iitb-english-hindi\")"
   ]
  },
  {
   "cell_type": "code",
   "execution_count": null,
   "id": "2f7c71ff",
   "metadata": {},
   "outputs": [
    {
     "data": {
      "text/plain": [
       "DatasetDict({\n",
       "    train: Dataset({\n",
       "        features: ['translation'],\n",
       "        num_rows: 1659083\n",
       "    })\n",
       "    validation: Dataset({\n",
       "        features: ['translation'],\n",
       "        num_rows: 520\n",
       "    })\n",
       "    test: Dataset({\n",
       "        features: ['translation'],\n",
       "        num_rows: 2507\n",
       "    })\n",
       "})"
      ]
     },
     "execution_count": 22,
     "metadata": {},
     "output_type": "execute_result"
    }
   ],
   "source": [
    "ds"
   ]
  },
  {
   "cell_type": "code",
   "execution_count": 23,
   "id": "e139b6e9",
   "metadata": {},
   "outputs": [
    {
     "data": {
      "text/plain": [
       "Dataset({\n",
       "    features: ['translation'],\n",
       "    num_rows: 1659083\n",
       "})"
      ]
     },
     "execution_count": 23,
     "metadata": {},
     "output_type": "execute_result"
    }
   ],
   "source": [
    "ds['train']"
   ]
  },
  {
   "cell_type": "markdown",
   "id": "ee4cd43f",
   "metadata": {},
   "source": []
  },
  {
   "cell_type": "code",
   "execution_count": null,
   "id": "5c83f3b7",
   "metadata": {},
   "outputs": [
    {
     "data": {
      "text/plain": [
       "dict_values([[{'en': 'Give your application an accessibility workout', 'hi': 'अपने अनुप्रयोग को पहुंचनीयता व्यायाम का लाभ दें'}, {'en': 'Accerciser Accessibility Explorer', 'hi': 'एक्सेर्साइसर पहुंचनीयता अन्वेषक'}, {'en': 'The default plugin layout for the bottom panel', 'hi': 'निचले पटल के लिए डिफोल्ट प्लग-इन खाका'}, {'en': 'The default plugin layout for the top panel', 'hi': 'ऊपरी पटल के लिए डिफोल्ट प्लग-इन खाका'}, {'en': 'A list of plugins that are disabled by default', 'hi': 'उन प्लग-इनों की सूची जिन्हें डिफोल्ट रूप से निष्क्रिय किया गया है'}, {'en': 'Highlight duration', 'hi': 'अवधि को हाइलाइट रकें'}, {'en': 'The duration of the highlight box when selecting accessible nodes', 'hi': 'पहुंचनीय आसंधि (नोड) को चुनते समय हाइलाइट बक्से की अवधि'}, {'en': 'Highlight border color', 'hi': 'सीमांत (बोर्डर) के रंग को हाइलाइट करें'}, {'en': 'The color and opacity of the highlight border.', 'hi': 'हाइलाइट किए गए सीमांत का रंग और अपारदर्शिता। '}, {'en': 'Highlight fill color', 'hi': 'भराई के रंग को हाइलाइट करें'}, {'en': 'The color and opacity of the highlight fill.', 'hi': 'हाइलाइट किया गया भराई का रंग और पारदर्शिता। '}, {'en': 'API Browser', 'hi': 'एपीआई विचरक'}, {'en': 'Browse the various methods of the current accessible', 'hi': 'इस समय जिसे प्राप्त किया गया हो, उसकी विभिन्न विधियों (मेथड) में विचरण करें'}, {'en': 'Hide private attributes', 'hi': 'निजी गुणों को छिपाएं'}, {'en': 'Method', 'hi': 'विधि'}, {'en': 'Property', 'hi': 'गुणधर्म'}, {'en': 'Value', 'hi': 'मान'}, {'en': 'IPython Console', 'hi': 'आईपाइथन कन्सोल'}, {'en': 'Interactive console for manipulating currently selected accessible', 'hi': 'इस समय चुने गए एक्सेसेबेल से काम लेने के लिए अंतर्क्रियात्मक कन्सोल'}, {'en': 'Event monitor', 'hi': 'घटना मानिटर'}, {'en': '_ Monitor Events', 'hi': 'घटनाओं को मानिटर करें (_ M) '}, {'en': 'C _ lear Selection', 'hi': 'चुनाव को हटाएं (C _) '}, {'en': 'Everything', 'hi': 'सभी'}, {'en': 'Selected application', 'hi': 'चुने गए अनुप्रयोग'}, {'en': 'Selected accessible', 'hi': 'चुने गए एक्सेसेबेल'}, {'en': 'Source', 'hi': 'स्रोत'}, {'en': 'Event Monitor', 'hi': 'घटना मानिटर'}, {'en': 'Shows events as they occur from selected types and sources', 'hi': 'चुने गए प्रकारों और स्रोतों से घटनाएं जैसे-जैसे घटित होती हैं, उन्हें दर्शाता है'}, {'en': 'Highlight last event entry', 'hi': 'अंतिम प्रविष्ट घटना को हाइलाइट करो'}, {'en': 'Start / stop event recording', 'hi': 'घटना रेकोर्डिंग शुरू करो/रोको'}, {'en': 'Clear event log', 'hi': 'घटना रोजनामचा मिटाओ'}, {'en': '(no description)', 'hi': 'कोई विवरण नहीं'}, {'en': 'Description', 'hi': 'वर्णन'}, {'en': 'Show', 'hi': 'दिखाएं'}, {'en': '_ Accessible', 'hi': 'पहुंचनीय'}, {'en': 'Perform action', 'hi': 'कार्रवाई संपन्न करें'}, {'en': 'Acti _ on', 'hi': 'कार्रवाई (_ o) '}, {'en': 'ID', 'hi': 'आईडी'}, {'en': 'Toolkit', 'hi': 'औजार बक्सा'}, {'en': 'Version', 'hi': 'संस्करण'}, {'en': 'Ap _ plication', 'hi': 'अनुप्रयोग'}, {'en': 'Col _ lection', 'hi': 'संग्रह'}, {'en': '0, 0', 'hi': '0, 0'}, {'en': 'Relative position', 'hi': 'सापेक्ष स्थिति'}, {'en': 'Size', 'hi': 'आकार'}, {'en': 'WIDGET', 'hi': 'विडजेट'}, {'en': 'Layer', 'hi': 'स्तर'}, {'en': 'MDI - Z - order', 'hi': 'एमडीआई-जेड-क्रम'}, {'en': 'Alpha', 'hi': 'अल्फा'}, {'en': 'Absolute position', 'hi': 'निरपेक्ष स्थिति'}, {'en': 'Co _ mponent', 'hi': 'घटक'}, {'en': 'Des _ ktop', 'hi': 'डेस्कटोप'}, {'en': 'Locale:', 'hi': 'स्थान-विशिष्टः'}, {'en': '_ Document', 'hi': 'प्रलेख'}, {'en': 'Hyperlink', 'hi': 'हाइपरकड़ी'}, {'en': 'H _ ypertext', 'hi': 'हाइपरपाठ'}, {'en': 'Position', 'hi': 'स्थिति'}, {'en': 'Description', 'hi': 'वर्णन'}, {'en': 'Locale', 'hi': 'स्थान-विशिष्ट'}, {'en': '_ Image', 'hi': 'छवि (_ I) '}, {'en': 'Lo _ gin Helper', 'hi': 'प्रवेश सहायक'}, {'en': 'Select All', 'hi': 'सभी चुनें'}, {'en': '_ Selection', 'hi': 'चयन (_ S) '}, {'en': 'St _ reamable Content', 'hi': 'प्रवाहित करनेयोग्य विषयवस्तु'}, {'en': 'Selected columns', 'hi': 'चुने गए स्तंभ'}, {'en': 'Selected rows', 'hi': 'चुनी गई पंक्तियां'}, {'en': 'Columns', 'hi': 'स्तंभ'}, {'en': 'Rows', 'hi': 'पंक्तियां'}, {'en': 'Table Information', 'hi': '& lt; bgt; सारणी सूचनाlt;/bgt; '}, {'en': 'name (x, y)', 'hi': 'नाम (x, y) '}, {'en': 'Header:', 'hi': 'शीर्षकः'}, {'en': 'Extents:', 'hi': 'विस्तारः'}, {'en': 'Row', 'hi': 'पंक्ति'}, {'en': 'Column', 'hi': 'स्तंभ'}, {'en': 'Selected Cell', 'hi': '& lt; bgt; चुनी गई कोशिकाlt;/bgt; '}, {'en': '_ Table', 'hi': 'सारणी (_ T) '}, {'en': 'Offset', 'hi': 'ओफसेट'}, {'en': 'Include defaults', 'hi': 'डिफोल्टों को शामिल करें'}, {'en': 'Te _ xt', 'hi': 'पाठ (_ x) '}, {'en': 'Current value', 'hi': 'मौजूदा मान'}, {'en': 'Minimum increment', 'hi': 'न्यूनतम वृद्धि'}, {'en': 'Maximum value', 'hi': 'अधिकतम मान'}, {'en': 'Minimum value', 'hi': 'न्यूनतम मान'}, {'en': 'Val _ ue', 'hi': 'मान'}, {'en': 'Interface Viewer', 'hi': 'अंतराफलक दर्शक'}, {'en': 'Allows viewing of various interface properties', 'hi': 'अंतराफलक के विभिन्न गुणों को देखने देता है'}, {'en': '(not implemented)', 'hi': '(क्रियान्वित नहीं हुआ है) '}, {'en': 'Name', 'hi': 'नाम'}, {'en': 'URI', 'hi': 'यूआरआई'}, {'en': 'Start', 'hi': 'प्रारंभ'}, {'en': 'End', 'hi': 'अंत'}, {'en': 'Too many selectable children', 'hi': 'बहुत अधिक चयनीय शिशु हैं'}, {'en': 'Quick Select', 'hi': 'तेज चुनाव'}, {'en': 'Plugin with various methods of selecting accessibles quickly.', 'hi': 'प्लग-इन जिसमें हैं एक्सेसेबेलों को तेजी से चुनने के लिए कई विधियां'}, {'en': 'Inspect last focused accessible', 'hi': 'अंतिम बार फोकस किए गए एक्सेसेबल को जांचें'}, {'en': 'Inspect accessible under mouse', 'hi': 'माउस के अधीन जो एक्सेसेबल है, उसे जांचें'}, {'en': 'Native', 'hi': 'वतनी'}, {'en': 'Dogtail', 'hi': 'श्वानपुच्छ'}, {'en': 'LDTP', 'hi': 'एलडीटीपी'}, {'en': 'Script Type', 'hi': 'लिपि प्रकार'}, {'en': 'Script Recorder', 'hi': 'लिपि रेकोर्डर'}, {'en': 'Creates dogtail style scripts', 'hi': 'श्वानपुच्छ शैली की लिपियां निर्मित करता है'}, {'en': 'The current script will be lost.', 'hi': 'वर्तमान लिपि (स्क्रिप्ट) खो जाएगी। '}, {'en': 'Confirm clear', 'hi': 'मिटाने की पुष्टि करें'}, {'en': 'Sche _ ma:', 'hi': 'स्कीमाः'}, {'en': 'V _ alidate', 'hi': 'सत्यापन'}, {'en': 'Idle', 'hi': 'खाली'}, {'en': 'No description', 'hi': 'कोई विवरण नहीं'}, {'en': 'AT - SPI Validator', 'hi': 'एटी-एसपीआई सत्यापक'}, {'en': 'Validates application accessibility', 'hi': 'अनुप्रयोग की पहुंचनीयता का सत्यापन करता है'}, {'en': 'Level', 'hi': 'स्तर'}, {'en': 'Role', 'hi': 'भूमिका'}, {'en': 'Saving', 'hi': 'सहेज रहे हैं'}, {'en': 'Validating', 'hi': 'पुष्टि कर रहे हैं'}, {'en': 'EXCEPT', 'hi': 'अपवाद'}, {'en': 'ERROR', 'hi': 'त्रुटि'}, {'en': 'WARN', 'hi': 'चेतावनी'}, {'en': 'INFO', 'hi': 'सूचना'}, {'en': 'DEBUG', 'hi': 'दोषमुक्त करें'}, {'en': 'Basic', 'hi': 'मूल'}, {'en': 'Tests fundamental GUI application accessibility', 'hi': 'मूलभूत जीयूआई अनुप्रयोग पहुंचनीयता का परीक्षण करता है'}, {'en': 'actionable% s is not focusable or selectable', 'hi': '% s जिस पर कार्रवाई हो सकती है, वह न तो फोकस करने योग्य है न ही चयनीय'}, {'en': 'interactive% s is not actionable', 'hi': 'अंतर्क्रियात्मक% s कार्रवाई करने योग्य नहीं है'}, {'en': 'more than one focused widget', 'hi': 'एक से अधिक विडजेट फोकस में है'}, {'en': '% s has no text interface', 'hi': '% s का कोई पाठ अंतराफलक नहीं है'}, {'en': '% s index in parent does not match child index', 'hi': 'अभिभावक में% s सूची शिशु सूची सेमेल नहीं खाती'}, {'en': 'Missing reciprocal for% s relation', 'hi': '% s संबंध के लिए अन्योन्य गायब है'}, {'en': '% s missing name or label', 'hi': '% s गायब नाम या सूचक'}, {'en': 'focusable% s has table interface, no selection interface', 'hi': 'फोकस योग्य% s में सारणी अंतराफलक है, कोई चयनीय अंतराफलक नहीं हैbutton has focused state without focusable state'}, {'en': '% s has% s state without% s state', 'hi': '% s में% s स्थिति है, पर उसके साथ% s स्थिति नहीं है'}, {'en': '% s does not belong to a set', 'hi': '% s किसी समुच्चय का सदस्य नहीं है'}, {'en': '% (rolename) s index% (num) d does not match row and column', 'hi': '% (rolename) s सूची% (num) d पंक्ति और स्तंभ से मेल नहीं खातेparent indexrow and column index'}, {'en': '% (rolename) s parent index% (num1) d does not match row and column index% (num2) d', 'hi': '% (rolename) s अभिभावक सूची% (num1) d पंक्ति और स्तंभ सूची% (num2) d से मेल नहीं खाते'}, {'en': '% s has no name or description', 'hi': '% s का कोई नाम या विवरण नहीं'}, {'en': '_ Preferences...', 'hi': 'पसंद (_ P)... '}, {'en': '_ Contents', 'hi': 'विषय सूची (_ C) '}, {'en': 'Accerciser could not see the applications on your desktop. You must enable desktop accessibility to fix this problem. Do you want to enable it now?', 'hi': 'एक्सेरसाइसर आपके डेस्कटोप में मौजूद अनुप्रयोग नहीं देख पाया। इस समस्या के समाधान के लिए आपको डेस्कटोप पहुंचनीयता को सक्रिय करना होगा। क्या आप इसे सक्रिय करना चाहते हैं? '}, {'en': 'Note: Changes only take effect after logout.', 'hi': 'टिप्पणीः परिवर्तन सत्रांत (लोगआउट) के बाद ही प्रभाव में आएंगे। '}, {'en': 'Children', 'hi': 'शिशु'}, {'en': '_ Refresh Registry', 'hi': 'पंजी ताजा करें (_ R) '}, {'en': 'Refresh all', 'hi': 'सभी को ताजा करें'}, {'en': 'Refresh _ Node', 'hi': 'आसंधि (नोड) को ताजा करें (_ N) '}, {'en': \"Refresh selected node 's children\", 'hi': 'चुनी गई आसंधियों (नोड) के शिशुओं को ताजा करें'}, {'en': 'Component', 'hi': 'घटक'}, {'en': 'Task', 'hi': 'कार्य'}, {'en': 'Key', 'hi': 'कुंजी'}, {'en': 'Alt', 'hi': 'आल्ट'}, {'en': 'Ctrl', 'hi': 'कंट्रोल'}, {'en': 'Shift', 'hi': 'शिफ्ट'}, {'en': 'Top panel', 'hi': 'ऊपरी पटल'}, {'en': 'Bottom panel', 'hi': 'निचला पटल'}, {'en': 'accerciser Preferences', 'hi': 'एक्सेर्साइसर पसंद'}, {'en': 'Plugins', 'hi': 'प्लगइन्स'}, {'en': 'Global Hotkeys', 'hi': 'सार्वत्रिक फटाफट कुंजियां'}, {'en': 'Highlighting', 'hi': 'हाइलाइटन'}, {'en': 'Highlight duration:', 'hi': 'हाइलाइट अवधिः'}, {'en': 'Border color:', 'hi': 'सीमांत रंगः'}, {'en': 'The border color of the highlight box', 'hi': 'हाइलाइट बक्से का सीमांत रंग'}, {'en': 'Fill color:', 'hi': 'भराई का रंगः'}, {'en': 'The fill color of the highlight box', 'hi': 'हाइलाइट बक्से का भराई रंग'}, {'en': 'translator - credits', 'hi': 'रविशंकर श्रीवास्तव (raviratlami @yahoo. com) राजेश रंजन (rajeshkajha @yahoo. com) ल. बालसुब्रमण्यम (l. balasubramaniam @gmail. com) '}, {'en': 'An interactive Python accessibility explorer', 'hi': 'एक अंतर्क्रियात्मक पाइथन पहुंचनीयता अन्वेषक'}, {'en': 'accerciser Copyright © 2006, 2007 IBM Corporation (BSD)', 'hi': 'एक्सेर्साइसर सर्वाधिकार © 2006,2007 आईबीएम निगम (बीएसडी) '}, {'en': 'The New BSD License See the COPYING and NOTICE files for details.', 'hi': 'नया बीएसडी लाइसेन्स विवरण के लिए देखिए प्रतिलिपीकरण और सूचना फाइलें'}, {'en': 'Web site', 'hi': 'जाल स्थल'}, {'en': '_ Add Bookmark...', 'hi': 'पसंद जोड़ें... (_ A) '}, {'en': 'Bookmark selected accessible.', 'hi': 'चुने गए एक्सेसेबलों को पुस्तक-चिह्नित करें'}, {'en': '_ Edit Bookmarks...', 'hi': 'पुस्तक चिह्न संपादित करें (_ E)... '}, {'en': 'Manage bookmarks.', 'hi': 'पुस्तक-चिह्नों को प्रबंधित करें। '}, {'en': 'Edit Bookmarks...', 'hi': 'पुस्तक चिह्नों को संपादित करें... '}, {'en': 'Title', 'hi': 'शीर्षक'}, {'en': 'Application', 'hi': 'अनुप्रयोग'}, {'en': 'Path', 'hi': 'पथ'}, {'en': 'Add Bookmark...', 'hi': 'पुस्तक-चिह्न जोड़ें... '}, {'en': 'Title:', 'hi': 'शीर्षकः'}, {'en': 'Application:', 'hi': 'अनुप्रयोगः'}, {'en': 'Path:', 'hi': 'पथः'}, {'en': 'Plugin Errors', 'hi': 'प्लग-इन त्रुटियां'}, {'en': 'View', 'hi': 'दृश्य'}, {'en': 'No view', 'hi': 'कोई दृश्य नहीं है'}, {'en': '_ Single plugins view', 'hi': 'एकल प्लग-इन दृश्य'}, {'en': 'Plugin View', 'hi': 'प्लग-इन दृश्य'}, {'en': 'Plugin View (% d)', 'hi': 'प्लग-इन दृश्य (% d) '}, {'en': '_ New view...', 'hi': 'नया दृश्य... '}, {'en': 'New View...', 'hi': 'नया दृश्य... '}, {'en': '_ File', 'hi': 'फाइल (F) '}, {'en': '_ Edit', 'hi': 'संपादित करें'}, {'en': '_ Bookmarks', 'hi': 'पुस्तक-चिह्न संपादित करें (_ E)... '}, {'en': '_ View', 'hi': 'दृश्य _ (V) '}, {'en': '_ Help', 'hi': 'मदद'}, {'en': 'Full name', 'hi': 'पूरा नाम'}, {'en': 'Key binding', 'hi': 'कुंजी बंधन'}, {'en': 'Content type', 'hi': 'विषय प्रकार'}, {'en': 'Give your application an accessibility workout', 'hi': 'अपने अनुप्रयोग को पहुंचनीयता व्यायाम का लाभ दें'}, {'en': 'Accerciser Accessibility Explorer', 'hi': 'एक्सेर्साइसर पहुंचनीयता अन्वेषक'}, {'en': 'The default plugin layout for the bottom panel', 'hi': 'निचले पटल के लिए डिफोल्ट प्लग-इन खाका'}, {'en': 'The default plugin layout for the top panel', 'hi': 'ऊपरी पटल के लिए डिफोल्ट प्लग-इन खाका'}, {'en': 'A list of plugins that are disabled by default', 'hi': 'उन प्लग-इनों की सूची जिन्हें डिफोल्ट रूप से निष्क्रिय किया गया है'}, {'en': 'Highlight duration', 'hi': 'अवधि को हाइलाइट रकें'}, {'en': 'The duration of the highlight box when selecting accessible nodes', 'hi': 'पहुंचनीय आसंधि (नोड) को चुनते समय हाइलाइट बक्से की अवधि'}, {'en': 'Highlight border color', 'hi': 'सीमांत (बोर्डर) के रंग को हाइलाइट करें'}, {'en': 'The color and opacity of the highlight border.', 'hi': 'हाइलाइट किए गए सीमांत का रंग और अपारदर्शिता। '}, {'en': 'Highlight fill color', 'hi': 'भराई के रंग को हाइलाइट करें'}, {'en': 'The color and opacity of the highlight fill.', 'hi': 'हाइलाइट किया गया भराई का रंग और पारदर्शिता। '}, {'en': 'API Browser', 'hi': 'एपीआई विचरक'}, {'en': 'Browse the various methods of the current accessible', 'hi': 'इस समय जिसे प्राप्त किया गया हो, उसकी विभिन्न विधियों (मेथड) में विचरण करें'}, {'en': 'Hide private attributes', 'hi': 'निजी गुणों को छिपाएं'}, {'en': 'Method', 'hi': 'विधि'}, {'en': 'Property', 'hi': 'गुणधर्म'}, {'en': 'Value', 'hi': 'मान'}, {'en': 'IPython Console', 'hi': 'आईपाइथन कन्सोल'}, {'en': 'Interactive console for manipulating currently selected accessible', 'hi': 'इस समय चुने गए एक्सेसेबेल से काम लेने के लिए अंतर्क्रियात्मक कन्सोल'}, {'en': 'Event monitor', 'hi': 'घटना मानिटर'}, {'en': '_ Monitor Events', 'hi': 'घटनाओं को मानिटर करें (_ M) '}, {'en': 'C _ lear Selection', 'hi': 'चुनाव को हटाएं (C _) '}, {'en': 'Everything', 'hi': 'सभी'}, {'en': 'Selected application', 'hi': 'चुने गए अनुप्रयोग'}, {'en': 'Selected accessible', 'hi': 'चुने गए एक्सेसेबेल'}, {'en': 'Source', 'hi': 'स्रोत'}, {'en': 'Event Monitor', 'hi': 'घटना मानिटर'}, {'en': 'Shows events as they occur from selected types and sources', 'hi': 'चुने गए प्रकारों और स्रोतों से घटनाएं जैसे-जैसे घटित होती हैं, उन्हें दर्शाता है'}, {'en': 'Highlight last event entry', 'hi': 'अंतिम प्रविष्ट घटना को हाइलाइट करो'}, {'en': 'Start / stop event recording', 'hi': 'घटना रेकोर्डिंग शुरू करो/रोको'}, {'en': 'Clear event log', 'hi': 'घटना रोजनामचा मिटाओ'}, {'en': '(no description)', 'hi': 'कोई विवरण नहीं'}, {'en': 'Description', 'hi': 'वर्णन'}, {'en': 'Show', 'hi': 'दिखाएं'}, {'en': '_ Accessible', 'hi': 'पहुंचनीय'}, {'en': 'Perform action', 'hi': 'कार्रवाई संपन्न करें'}, {'en': 'Acti _ on', 'hi': 'कार्रवाई (_ o) '}, {'en': 'ID', 'hi': 'आईडी'}, {'en': 'Toolkit', 'hi': 'औजार बक्सा'}, {'en': 'Version', 'hi': 'संस्करण'}, {'en': 'Ap _ plication', 'hi': 'अनुप्रयोग'}, {'en': 'Col _ lection', 'hi': 'संग्रह'}, {'en': '0, 0', 'hi': '0, 0'}, {'en': 'Relative position', 'hi': 'सापेक्ष स्थिति'}, {'en': 'Size', 'hi': 'आकार'}, {'en': 'WIDGET', 'hi': 'विडजेट'}, {'en': 'Layer', 'hi': 'स्तर'}, {'en': 'MDI - Z - order', 'hi': 'एमडीआई-जेड-क्रम'}, {'en': 'Alpha', 'hi': 'अल्फा'}, {'en': 'Absolute position', 'hi': 'निरपेक्ष स्थिति'}, {'en': 'Co _ mponent', 'hi': 'घटक'}, {'en': 'Des _ ktop', 'hi': 'डेस्कटोप'}, {'en': 'Locale:', 'hi': 'स्थान-विशिष्टः'}, {'en': '_ Document', 'hi': 'प्रलेख'}, {'en': 'Hyperlink', 'hi': 'हाइपरकड़ी'}, {'en': 'H _ ypertext', 'hi': 'हाइपरपाठ'}, {'en': 'Position', 'hi': 'स्थिति'}, {'en': 'Description', 'hi': 'वर्णन'}, {'en': 'Locale', 'hi': 'स्थान-विशिष्ट'}, {'en': '_ Image', 'hi': 'छवि (_ I) '}, {'en': 'Lo _ gin Helper', 'hi': 'प्रवेश सहायक'}, {'en': 'Select All', 'hi': 'सभी चुनें'}, {'en': '_ Selection', 'hi': 'चयन (_ S) '}, {'en': 'St _ reamable Content', 'hi': 'प्रवाहित करनेयोग्य विषयवस्तु'}, {'en': 'Selected columns', 'hi': 'चुने गए स्तंभ'}, {'en': 'Selected rows', 'hi': 'चुनी गई पंक्तियां'}, {'en': 'Columns', 'hi': 'स्तंभ'}, {'en': 'Rows', 'hi': 'पंक्तियां'}, {'en': 'Table Information', 'hi': '& lt; bgt; सारणी सूचनाlt;/bgt; '}, {'en': 'name (x, y)', 'hi': 'नाम (x, y) '}, {'en': 'Header:', 'hi': 'शीर्षकः'}, {'en': 'Extents:', 'hi': 'विस्तारः'}, {'en': 'Row', 'hi': 'पंक्ति'}, {'en': 'Column', 'hi': 'स्तंभ'}, {'en': 'Selected Cell', 'hi': '& lt; bgt; चुनी गई कोशिकाlt;/bgt; '}, {'en': '_ Table', 'hi': 'सारणी (_ T) '}, {'en': 'Offset', 'hi': 'ओफसेट'}, {'en': 'Include defaults', 'hi': 'डिफोल्टों को शामिल करें'}, {'en': 'Te _ xt', 'hi': 'पाठ (_ x) '}, {'en': 'Current value', 'hi': 'मौजूदा मान'}, {'en': 'Minimum increment', 'hi': 'न्यूनतम वृद्धि'}, {'en': 'Maximum value', 'hi': 'अधिकतम मान'}, {'en': 'Minimum value', 'hi': 'न्यूनतम मान'}, {'en': 'Val _ ue', 'hi': 'मान'}, {'en': 'Interface Viewer', 'hi': 'अंतराफलक दर्शक'}, {'en': 'Allows viewing of various interface properties', 'hi': 'अंतराफलक के विभिन्न गुणों को देखने देता है'}, {'en': '(not implemented)', 'hi': '(क्रियान्वित नहीं हुआ है) '}, {'en': 'Name', 'hi': 'नाम'}, {'en': 'URI', 'hi': 'यूआरआई'}, {'en': 'Start', 'hi': 'प्रारंभ'}, {'en': 'End', 'hi': 'अंत'}, {'en': 'Too many selectable children', 'hi': 'बहुत अधिक चयनीय शिशु हैं'}, {'en': 'Quick Select', 'hi': 'तेज चुनाव'}, {'en': 'Plugin with various methods of selecting accessibles quickly.', 'hi': 'प्लग-इन जिसमें हैं एक्सेसेबेलों को तेजी से चुनने के लिए कई विधियां'}, {'en': 'Inspect last focused accessible', 'hi': 'अंतिम बार फोकस किए गए एक्सेसेबल को जांचें'}, {'en': 'Inspect accessible under mouse', 'hi': 'माउस के अधीन जो एक्सेसेबल है, उसे जांचें'}, {'en': 'Native', 'hi': 'वतनी'}, {'en': 'Dogtail', 'hi': 'श्वानपुच्छ'}, {'en': 'LDTP', 'hi': 'एलडीटीपी'}, {'en': 'Script Type', 'hi': 'लिपि प्रकार'}, {'en': 'Script Recorder', 'hi': 'लिपि रेकोर्डर'}, {'en': 'Creates dogtail style scripts', 'hi': 'श्वानपुच्छ शैली की लिपियां निर्मित करता है'}, {'en': 'The current script will be lost.', 'hi': 'वर्तमान लिपि (स्क्रिप्ट) खो जाएगी। '}, {'en': 'Confirm clear', 'hi': 'मिटाने की पुष्टि करें'}, {'en': 'Sche _ ma:', 'hi': 'स्कीमाः'}, {'en': 'V _ alidate', 'hi': 'सत्यापन'}, {'en': 'Idle', 'hi': 'खाली'}, {'en': 'No description', 'hi': 'कोई विवरण नहीं'}, {'en': 'AT - SPI Validator', 'hi': 'एटी-एसपीआई सत्यापक'}, {'en': 'Validates application accessibility', 'hi': 'अनुप्रयोग की पहुंचनीयता का सत्यापन करता है'}, {'en': 'Level', 'hi': 'स्तर'}, {'en': 'Role', 'hi': 'भूमिका'}, {'en': 'Saving', 'hi': 'सहेज रहे हैं'}, {'en': 'Validating', 'hi': 'पुष्टि कर रहे हैं'}, {'en': 'EXCEPT', 'hi': 'अपवाद'}, {'en': 'ERROR', 'hi': 'त्रुटि'}, {'en': 'WARN', 'hi': 'चेतावनी'}, {'en': 'INFO', 'hi': 'सूचना'}, {'en': 'DEBUG', 'hi': 'दोषमुक्त करें'}, {'en': 'Basic', 'hi': 'मूल'}, {'en': 'Tests fundamental GUI application accessibility', 'hi': 'मूलभूत जीयूआई अनुप्रयोग पहुंचनीयता का परीक्षण करता है'}, {'en': 'actionable% s is not focusable or selectable', 'hi': '% s जिस पर कार्रवाई हो सकती है, वह न तो फोकस करने योग्य है न ही चयनीय'}, {'en': 'interactive% s is not actionable', 'hi': 'अंतर्क्रियात्मक% s कार्रवाई करने योग्य नहीं है'}, {'en': 'more than one focused widget', 'hi': 'एक से अधिक विडजेट फोकस में है'}, {'en': '% s has no text interface', 'hi': '% s का कोई पाठ अंतराफलक नहीं है'}, {'en': '% s index in parent does not match child index', 'hi': 'अभिभावक में% s सूची शिशु सूची सेमेल नहीं खाती'}, {'en': 'Missing reciprocal for% s relation', 'hi': '% s संबंध के लिए अन्योन्य गायब है'}, {'en': '% s missing name or label', 'hi': '% s गायब नाम या सूचक'}, {'en': 'focusable% s has table interface, no selection interface', 'hi': 'फोकस योग्य% s में सारणी अंतराफलक है, कोई चयनीय अंतराफलक नहीं हैbutton has focused state without focusable state'}, {'en': '% s has% s state without% s state', 'hi': '% s में% s स्थिति है, पर उसके साथ% s स्थिति नहीं है'}, {'en': '% s does not belong to a set', 'hi': '% s किसी समुच्चय का सदस्य नहीं है'}, {'en': '% (rolename) s index% (num) d does not match row and column', 'hi': '% (rolename) s सूची% (num) d पंक्ति और स्तंभ से मेल नहीं खातेparent indexrow and column index'}, {'en': '% (rolename) s parent index% (num1) d does not match row and column index% (num2) d', 'hi': '% (rolename) s अभिभावक सूची% (num1) d पंक्ति और स्तंभ सूची% (num2) d से मेल नहीं खाते'}, {'en': '% s has no name or description', 'hi': '% s का कोई नाम या विवरण नहीं'}, {'en': '_ Preferences...', 'hi': 'पसंद (_ P)... '}, {'en': '_ Contents', 'hi': 'विषय सूची (_ C) '}, {'en': 'Accerciser could not see the applications on your desktop. You must enable desktop accessibility to fix this problem. Do you want to enable it now?', 'hi': 'एक्सेरसाइसर आपके डेस्कटोप में मौजूद अनुप्रयोग नहीं देख पाया। इस समस्या के समाधान के लिए आपको डेस्कटोप पहुंचनीयता को सक्रिय करना होगा। क्या आप इसे सक्रिय करना चाहते हैं? '}, {'en': 'Note: Changes only take effect after logout.', 'hi': 'टिप्पणीः परिवर्तन सत्रांत (लोगआउट) के बाद ही प्रभाव में आएंगे। '}, {'en': 'Children', 'hi': 'शिशु'}, {'en': '_ Refresh Registry', 'hi': 'पंजी ताजा करें (_ R) '}, {'en': 'Refresh all', 'hi': 'सभी को ताजा करें'}, {'en': 'Refresh _ Node', 'hi': 'आसंधि (नोड) को ताजा करें (_ N) '}, {'en': \"Refresh selected node 's children\", 'hi': 'चुनी गई आसंधियों (नोड) के शिशुओं को ताजा करें'}, {'en': 'Component', 'hi': 'घटक'}, {'en': 'Task', 'hi': 'कार्य'}, {'en': 'Key', 'hi': 'कुंजी'}, {'en': 'Alt', 'hi': 'आल्ट'}, {'en': 'Ctrl', 'hi': 'कंट्रोल'}, {'en': 'Shift', 'hi': 'शिफ्ट'}, {'en': 'Top panel', 'hi': 'ऊपरी पटल'}, {'en': 'Bottom panel', 'hi': 'निचला पटल'}, {'en': 'accerciser Preferences', 'hi': 'एक्सेर्साइसर पसंद'}, {'en': 'Plugins', 'hi': 'प्लगइन्स'}, {'en': 'Global Hotkeys', 'hi': 'सार्वत्रिक फटाफट कुंजियां'}, {'en': 'Highlighting', 'hi': 'हाइलाइटन'}, {'en': 'Highlight duration:', 'hi': 'हाइलाइट अवधिः'}, {'en': 'Border color:', 'hi': 'सीमांत रंगः'}, {'en': 'The border color of the highlight box', 'hi': 'हाइलाइट बक्से का सीमांत रंग'}, {'en': 'Fill color:', 'hi': 'भराई का रंगः'}, {'en': 'The fill color of the highlight box', 'hi': 'हाइलाइट बक्से का भराई रंग'}, {'en': 'translator - credits', 'hi': 'रविशंकर श्रीवास्तव (raviratlami @yahoo. com) राजेश रंजन (rajeshkajha @yahoo. com) ल. बालसुब्रमण्यम (l. balasubramaniam @gmail. com) '}, {'en': 'An interactive Python accessibility explorer', 'hi': 'एक अंतर्क्रियात्मक पाइथन पहुंचनीयता अन्वेषक'}, {'en': 'accerciser Copyright © 2006, 2007 IBM Corporation (BSD)', 'hi': 'एक्सेर्साइसर सर्वाधिकार © 2006,2007 आईबीएम निगम (बीएसडी) '}, {'en': 'The New BSD License See the COPYING and NOTICE files for details.', 'hi': 'नया बीएसडी लाइसेन्स विवरण के लिए देखिए प्रतिलिपीकरण और सूचना फाइलें'}, {'en': 'Web site', 'hi': 'जाल स्थल'}, {'en': '_ Add Bookmark...', 'hi': 'पसंद जोड़ें... (_ A) '}, {'en': 'Bookmark selected accessible.', 'hi': 'चुने गए एक्सेसेबलों को पुस्तक-चिह्नित करें'}, {'en': '_ Edit Bookmarks...', 'hi': 'पुस्तक चिह्न संपादित करें (_ E)... '}, {'en': 'Manage bookmarks.', 'hi': 'पुस्तक-चिह्नों को प्रबंधित करें। '}, {'en': 'Edit Bookmarks...', 'hi': 'पुस्तक चिह्नों को संपादित करें... '}, {'en': 'Title', 'hi': 'शीर्षक'}, {'en': 'Application', 'hi': 'अनुप्रयोग'}, {'en': 'Path', 'hi': 'पथ'}, {'en': 'Add Bookmark...', 'hi': 'पुस्तक-चिह्न जोड़ें... '}, {'en': 'Title:', 'hi': 'शीर्षकः'}, {'en': 'Application:', 'hi': 'अनुप्रयोगः'}, {'en': 'Path:', 'hi': 'पथः'}, {'en': 'Plugin Errors', 'hi': 'प्लग-इन त्रुटियां'}, {'en': 'View', 'hi': 'दृश्य'}, {'en': 'No view', 'hi': 'कोई दृश्य नहीं है'}, {'en': '_ Single plugins view', 'hi': 'एकल प्लग-इन दृश्य'}, {'en': 'Plugin View', 'hi': 'प्लग-इन दृश्य'}, {'en': 'Plugin View (% d)', 'hi': 'प्लग-इन दृश्य (% d) '}, {'en': '_ New view...', 'hi': 'नया दृश्य... '}, {'en': 'New View...', 'hi': 'नया दृश्य... '}, {'en': '_ File', 'hi': 'फाइल (F) '}, {'en': '_ Edit', 'hi': 'संपादित करें'}, {'en': '_ Bookmarks', 'hi': 'पुस्तक-चिह्न संपादित करें (_ E)... '}, {'en': '_ View', 'hi': 'दृश्य _ (V) '}, {'en': '_ Help', 'hi': 'मदद'}, {'en': 'Full name', 'hi': 'पूरा नाम'}, {'en': 'Key binding', 'hi': 'कुंजी बंधन'}, {'en': 'Content type', 'hi': 'विषय प्रकार'}, {'en': 'Accerciser', 'hi': 'एक्सेर्साइसर'}, {'en': 'Give your application an accessibility workout', 'hi': 'अपने अनुप्रयोग को पहुंचनीयता व्यायाम का लाभ दें'}, {'en': 'Accerciser Accessibility Explorer', 'hi': 'एक्सेर्साइसर पहुंचनीयता अन्वेषक'}, {'en': 'A list of plugins that are disabled by default', 'hi': 'उन प्लग-इनों की सूची जिन्हें डिफोल्ट रूप से निष्क्रिय किया गया है'}, {'en': 'A list of plugins that are disabled by default.', 'hi': 'उन प्लग-इनों की सूची जिन्हें डिफोल्ट रूप से निष्क्रिय किया गया है'}, {'en': 'Highlight duration', 'hi': 'अवधि को हाइलाइट रकें'}, {'en': 'The duration of the highlight box when selecting accessible nodes.', 'hi': 'पहुंचनीय आसंधि नोड को चुनते समय हाइलाइट बक्से की अवधि. '}, {'en': 'Highlight fill color', 'hi': 'भराई के रंग को हाइलाइट करें'}, {'en': 'The color and opacity of the highlight fill.', 'hi': 'हाइलाइट किया गया भराई का रंग और पारदर्शिता। '}, {'en': 'Highlight border color', 'hi': 'सीमांत (बोर्डर) के रंग को हाइलाइट करें'}, {'en': 'The color and opacity of the highlight border.', 'hi': 'हाइलाइट किए गए सीमांत का रंग और अपारदर्शिता। '}, {'en': 'The layout for the bottom panel', 'hi': 'नीचे के पैनल के लिए लेआउट'}, {'en': 'The layout for the bottom panel pluginview.', 'hi': 'नीचे पैनल pluginview के लिए लेआउट. '}, {'en': 'The layout for the top panel', 'hi': 'ऊपरी पटल के लिए खाका'}, {'en': 'The layout for the top panel pluginview.', 'hi': 'शीर्ष पैनल pluginview के लिए लेआउट. '}, {'en': 'Single layout view', 'hi': 'एकल लेआउट दृश्य'}, {'en': 'Available new pluginviews', 'hi': 'नई pluginviews उपलब्ध है'}, {'en': 'The default plugin layout for the top panel.', 'hi': 'ऊपरी पटल के लिए डिफोल्ट प्लग-इन खाका. '}, {'en': 'API Browser', 'hi': 'एपीआई विचरक'}, {'en': 'Browse the various methods of the current accessible', 'hi': 'इस समय जिसे प्राप्त किया गया हो, उसकी विभिन्न विधियों (मेथड) में विचरण करें'}, {'en': 'Hide private attributes', 'hi': 'निजी गुणों को छिपाएं'}, {'en': 'Method', 'hi': 'विधि'}, {'en': 'Property', 'hi': 'गुणधर्म'}, {'en': 'Value', 'hi': 'मान'}, {'en': 'IPython Console', 'hi': 'आईपाइथन कन्सोल'}, {'en': 'Interactive console for manipulating currently selected accessible', 'hi': 'इस समय चुने गए एक्सेसेबेल से काम लेने के लिए अंतर्क्रियात्मक कन्सोल'}, {'en': 'Event monitor', 'hi': 'घटना मानिटर'}, {'en': '_ Monitor Events', 'hi': 'घटनाओं को मानिटर करें (_ M) '}, {'en': 'C _ lear Selection', 'hi': 'चुनाव को हटाएं (C _) '}, {'en': 'Everything', 'hi': 'सभी'}, {'en': 'Selected application', 'hi': 'चुने गए अनुप्रयोग'}, {'en': 'Selected accessible', 'hi': 'चुने गए एक्सेसेबेल'}, {'en': 'Source', 'hi': 'स्रोत'}, {'en': 'Event Monitor', 'hi': 'घटना मानिटर'}, {'en': 'Shows events as they occur from selected types and sources', 'hi': 'चुने गए प्रकारों और स्रोतों से घटनाएं जैसे-जैसे घटित होती हैं, उन्हें दर्शाता है'}, {'en': 'Highlight last event entry', 'hi': 'अंतिम प्रविष्ट घटना को हाइलाइट करो'}, {'en': 'Start / stop event recording', 'hi': 'घटना रेकोर्डिंग शुरू करो/रोको'}, {'en': 'Clear event log', 'hi': 'घटना रोजनामचा मिटाओ'}, {'en': 'Child count', 'hi': 'बाल गणना'}, {'en': 'Description', 'hi': 'वर्णन'}, {'en': 'States', 'hi': 'राज्य'}, {'en': 'Attributes', 'hi': 'गुणधर्म'}, {'en': 'Show', 'hi': 'दिखाएं'}, {'en': 'Relations', 'hi': 'संबंध'}, {'en': '_ Accessible', 'hi': 'पहुंचनीय'}, {'en': 'Perform action', 'hi': 'कार्रवाई संपन्न करें'}, {'en': 'Acti _ on', 'hi': 'कार्रवाई (_ o) '}, {'en': 'ID', 'hi': 'आईडी'}, {'en': 'Toolkit', 'hi': 'औजार बक्सा'}, {'en': 'Version', 'hi': 'संस्करण'}, {'en': 'Ap _ plication', 'hi': 'अनुप्रयोग'}, {'en': 'Col _ lection', 'hi': 'संग्रह'}, {'en': '0, 0', 'hi': '0, 0'}, {'en': 'Relative position', 'hi': 'सापेक्ष स्थिति'}, {'en': 'Size', 'hi': 'आकार'}, {'en': 'WIDGET', 'hi': 'विडजेट'}, {'en': 'Layer', 'hi': 'स्तर'}, {'en': 'MDI - Z - order', 'hi': 'एमडीआई-जेड-क्रम'}, {'en': 'Alpha', 'hi': 'अल्फा'}, {'en': 'Absolute position', 'hi': 'निरपेक्ष स्थिति'}, {'en': 'Co _ mponent', 'hi': 'घटक'}, {'en': 'Des _ ktop', 'hi': 'डेस्कटोप'}, {'en': 'Locale:', 'hi': 'स्थान-विशिष्टः'}, {'en': '_ Document', 'hi': 'प्रलेख'}, {'en': 'Hyperlink', 'hi': 'हाइपरकड़ी'}, {'en': 'H _ ypertext', 'hi': 'हाइपरपाठ'}, {'en': 'Position', 'hi': 'स्थिति'}, {'en': 'Locale', 'hi': 'स्थान-विशिष्ट'}, {'en': '_ Image', 'hi': 'छवि (_ I) '}, {'en': 'Lo _ gin Helper', 'hi': 'प्रवेश सहायक'}, {'en': 'Select All', 'hi': 'सभी चुनें'}, {'en': '_ Selection', 'hi': 'चयन (_ S) '}, {'en': 'St _ reamable Content', 'hi': 'प्रवाहित करनेयोग्य विषयवस्तु'}, {'en': 'Caption:', 'hi': 'शीर्षकः'}, {'en': 'Summary:', 'hi': 'सारांशः'}, {'en': 'Selected columns', 'hi': 'चुने गए स्तंभ'}, {'en': 'Selected rows', 'hi': 'चुनी गई पंक्तियां'}, {'en': 'Columns', 'hi': 'स्तंभ'}, {'en': 'Rows', 'hi': 'पंक्तियां'}, {'en': 'Table Information', 'hi': 'सारणी सूचना'}, {'en': 'name (x, y)', 'hi': 'नाम (x, y) '}, {'en': 'Header:', 'hi': 'शीर्षकः'}, {'en': 'Extents:', 'hi': 'विस्तारः'}, {'en': 'Row', 'hi': 'पंक्ति'}, {'en': 'Column', 'hi': 'स्तंभ'}, {'en': 'Selected Cell', 'hi': 'चुनी गई कोशिका'}, {'en': '_ Table', 'hi': 'सारणी (_ T) '}, {'en': 'Offset', 'hi': 'ओफसेट'}, {'en': 'Include defaults', 'hi': 'डिफोल्टों को शामिल करें'}, {'en': 'Start: 0', 'hi': 'प्रारंभ'}, {'en': 'End: 0', 'hi': 'अंतः 0'}, {'en': 'Te _ xt', 'hi': 'पाठ (_ x) '}, {'en': 'Current value', 'hi': 'मौजूदा मान'}, {'en': 'Minimum increment', 'hi': 'न्यूनतम वृद्धि'}, {'en': 'Maximum value', 'hi': 'अधिकतम मान'}, {'en': 'Minimum value', 'hi': 'न्यूनतम मान'}, {'en': 'Val _ ue', 'hi': 'मान'}, {'en': 'unknown', 'hi': 'अज्ञात'}, {'en': 'Interface Viewer', 'hi': 'अंतराफलक दर्शक'}, {'en': 'Allows viewing of various interface properties', 'hi': 'अंतराफलक के विभिन्न गुणों को देखने देता है'}, {'en': '(not implemented)', 'hi': '(क्रियान्वित नहीं हुआ है) '}, {'en': 'Name', 'hi': 'नाम'}, {'en': 'URI', 'hi': 'यूआरआई'}, {'en': 'Start', 'hi': 'प्रारंभ'}, {'en': 'End', 'hi': 'अंत'}, {'en': 'Too many selectable children', 'hi': 'बहुत अधिक चयनीय शिशु हैं'}, {'en': '(Editable)', 'hi': '(संशोधनीय) Start'}, {'en': 'Start:% d', 'hi': 'प्रारंभEnd'}, {'en': 'Quick Select', 'hi': 'तेज चुनाव'}, {'en': 'Plugin with various methods of selecting accessibles quickly.', 'hi': 'प्लग-इन जिसमें हैं एक्सेसेबेलों को तेजी से चुनने के लिए कई विधियां'}, {'en': 'Inspect last focused accessible', 'hi': 'अंतिम बार फोकस किए गए एक्सेसेबल को जांचें'}, {'en': 'Inspect accessible under mouse', 'hi': 'माउस के अधीन जो एक्सेसेबल है, उसे जांचें'}, {'en': 'Sche _ ma:', 'hi': 'स्कीमाः'}, {'en': 'V _ alidate', 'hi': 'सत्यापन'}, {'en': 'Idle', 'hi': 'खाली'}, {'en': 'No description', 'hi': 'कोई विवरण नहीं'}, {'en': 'AT - SPI Validator', 'hi': 'एटी-एसपीआई सत्यापक'}, {'en': 'Validates application accessibility', 'hi': 'अनुप्रयोग की पहुंचनीयता का सत्यापन करता है'}, {'en': 'Level', 'hi': 'स्तर'}, {'en': 'Role', 'hi': 'भूमिका'}, {'en': 'Saving', 'hi': 'सहेज रहे हैं'}, {'en': 'Validating', 'hi': 'पुष्टि कर रहे हैं'}, {'en': 'EXCEPT', 'hi': 'अपवाद'}, {'en': 'ERROR', 'hi': 'त्रुटि'}, {'en': 'WARN', 'hi': 'चेतावनी'}, {'en': 'INFO', 'hi': 'सूचना'}, {'en': 'DEBUG', 'hi': 'दोषमुक्त करें'}, {'en': 'Basic', 'hi': 'मूल'}, {'en': 'Tests fundamental GUI application accessibility', 'hi': 'मूलभूत जीयूआई अनुप्रयोग पहुंचनीयता का परीक्षण करता है'}, {'en': 'actionable% s is not focusable or selectable', 'hi': '% s जिस पर कार्रवाई हो सकती है, वह न तो फोकस करने योग्य है न ही चयनीय'}, {'en': 'interactive% s is not actionable', 'hi': 'अंतर्क्रियात्मक% s कार्रवाई करने योग्य नहीं है'}, {'en': 'more than one focused widget', 'hi': 'एक से अधिक विडजेट फोकस में है'}, {'en': '% s has no text interface', 'hi': '% s का कोई पाठ अंतराफलक नहीं है'}, {'en': '% s index in parent does not match child index', 'hi': 'अभिभावक में% s सूची शिशु सूची सेमेल नहीं खाती'}, {'en': 'Missing reciprocal for% s relation', 'hi': '% s संबंध के लिए अन्योन्य गायब है'}, {'en': '% s missing name or label', 'hi': '% s गायब नाम या सूचक'}, {'en': 'focusable% s has a table interface, but not a selection interface', 'hi': 'फोकस योग्य% s में सारणी अंतराफलक है, लेकिन कोई चयनीय अंतराफलक नहीं हैbutton has focused state without focusable state'}, {'en': '% s has% s state without% s state', 'hi': '% s में% s स्थिति है, पर उसके साथ% s स्थिति नहीं है'}, {'en': '% s does not belong to a set', 'hi': '% s किसी समुच्चय का सदस्य नहीं है'}, {'en': '% (rolename) s index% (num) d does not match row and column', 'hi': '% (rolename) s सूची% (num) d पंक्ति और स्तंभ से मेल नहीं खातेparent indexrow and column index'}, {'en': '% (rolename) s parent index% (num1) d does not match row and column index% (num2) d', 'hi': '% (rolename) s अभिभावक सूची% (num1) d पंक्ति और स्तंभ सूची% (num2) d से मेल नहीं खाते'}, {'en': '% s has no name or description', 'hi': '% s का कोई नाम या विवरण नहीं'}, {'en': '_ Preferences...', 'hi': 'पसंद (_ P)... '}, {'en': '_ Contents', 'hi': 'विषय सूची (_ C) '}, {'en': '< dead >', 'hi': '<dead> '}, {'en': 'Children', 'hi': 'शिशु'}, {'en': '_ Hide / Show Applications without children', 'hi': 'बच्चों के बिना अनुप्रयोग छिपाएँ/दिखाएँ (_ H) '}, {'en': '_ Refresh Registry', 'hi': 'पंजी ताजा करें (_ R) '}, {'en': 'Refresh all', 'hi': 'सभी को ताजा करें'}, {'en': 'Refresh _ Node', 'hi': 'आसंधि (नोड) को ताजा करें (_ N) '}, {'en': \"Refresh selected node 's children\", 'hi': 'चुनी गई आसंधियों (नोड) के शिशुओं को ताजा करें'}, {'en': 'Component', 'hi': 'घटक'}, {'en': 'Task', 'hi': 'कार्य'}, {'en': 'Key', 'hi': 'कुंजी'}, {'en': 'Alt', 'hi': 'आल्ट'}, {'en': 'Ctrl', 'hi': 'कंट्रोल'}, {'en': 'Shift', 'hi': 'शिफ्ट'}, {'en': 'Top panel', 'hi': 'ऊपरी पटल'}, {'en': 'Bottom panel', 'hi': 'निचला पटल'}, {'en': 'accerciser Preferences', 'hi': 'एक्सेर्साइसर पसंद'}, {'en': 'Plugins', 'hi': 'प्लगइन्स'}, {'en': 'Global Hotkeys', 'hi': 'सार्वत्रिक फटाफट कुंजियां'}, {'en': 'Highlighting', 'hi': 'हाइलाइटन'}, {'en': 'Highlight duration:', 'hi': 'हाइलाइट अवधिः'}, {'en': 'Border color:', 'hi': 'सीमांत रंगः'}, {'en': 'The border color of the highlight box', 'hi': 'हाइलाइट बक्से का सीमांत रंग'}, {'en': 'Fill color:', 'hi': 'भराई का रंगः'}, {'en': 'The fill color of the highlight box', 'hi': 'हाइलाइट बक्से का भराई रंग'}, {'en': 'translator - credits', 'hi': 'रविशंकर श्रीवास्तव (raviratlami @yahoo. com) राजेश रंजन (rajeshkajha @yahoo. com) ल. बालसुब्रमण्यम (l. balasubramaniam @gmail. com) '}, {'en': 'An interactive Python accessibility explorer', 'hi': 'एक अंतर्क्रियात्मक पाइथन पहुंचनीयता अन्वेषक'}, {'en': 'accerciser Copyright (c) 2006, 2007 IBM Corporation (BSD)', 'hi': 'एक्सेर्साइसर सर्वाधिकार (c) 2006,2007 आईबीएम निगम (बीएसडी) '}, {'en': 'The New BSD License See the COPYING and NOTICE files for details.', 'hi': 'नया बीएसडी लाइसेन्स विवरण के लिए देखिए प्रतिलिपीकरण और सूचना फाइलें'}, {'en': 'Web site', 'hi': 'जाल स्थल'}, {'en': '_ Add Bookmark...', 'hi': 'पसंद जोड़ें... (_ A) '}, {'en': 'Bookmark selected accessible.', 'hi': 'चुने गए एक्सेसेबलों को पुस्तक-चिह्नित करें'}, {'en': '_ Edit Bookmarks...', 'hi': 'पुस्तक चिह्न संपादित करें (_ E)... '}, {'en': 'Manage bookmarks.', 'hi': 'पुस्तक-चिह्नों को प्रबंधित करें। '}, {'en': 'Edit Bookmarks...', 'hi': 'पुस्तक चिह्नों को संपादित करें... '}, {'en': 'Title', 'hi': 'शीर्षक'}, {'en': 'Application', 'hi': 'अनुप्रयोग'}, {'en': 'Path', 'hi': 'पथ'}, {'en': 'Add Bookmark...', 'hi': 'पुस्तक-चिह्न जोड़ें... '}, {'en': 'Title:', 'hi': 'शीर्षकः'}, {'en': 'Application:', 'hi': 'अनुप्रयोगः'}, {'en': 'Path:', 'hi': 'पथः'}, {'en': 'Plugin Errors', 'hi': 'प्लग-इन त्रुटियांviewport'}, {'en': 'View', 'hi': 'दृश्य'}, {'en': 'No view', 'hi': 'कोई दृश्य नहीं है'}, {'en': '_ Single plugins view', 'hi': 'एकल प्लग-इन दृश्य'}, {'en': 'Plugin View', 'hi': 'प्लग-इन दृश्य'}, {'en': 'Plugin View (% d)', 'hi': 'प्लग-इन दृश्य (% d) '}, {'en': '_ New view...', 'hi': 'नया दृश्य... '}, {'en': 'New View...', 'hi': 'नया दृश्य... '}, {'en': '_ File', 'hi': 'फाइल (F) '}, {'en': '_ Edit', 'hi': 'संपादित करेंmenu'}, {'en': '_ Bookmarks', 'hi': 'पसंद (_ B) menu'}, {'en': '_ View', 'hi': 'दृश्य _ (V) '}, {'en': '_ Help', 'hi': 'मदद'}, {'en': '(no description)', 'hi': '(कोई विवरण नहीं) '}, {'en': 'Accerciser could not see the applications on your desktop. You must enable desktop accessibility to fix this problem. Do you want to enable it now?', 'hi': 'एक्सेरसाइसर आपके डेस्कटोप में मौजूद अनुप्रयोग नहीं देख पाया। इस समस्या के समाधान के लिए आपको डेस्कटोप पहुंचनीयता को सक्रिय करना होगा। क्या आप इसे सक्रिय करना चाहते हैं? '}, {'en': 'Note: Changes only take effect after logout.', 'hi': 'टिप्पणीः परिवर्तन सत्रांत (लोगआउट) के बाद ही प्रभाव में आएंगे। '}, {'en': '_ New view...', 'hi': 'नया दृश्य... (_ N) '}, {'en': 'Give your application an accessibility workout', 'hi': 'अपने अनुप्रयोग को पहुंचनीयता व्यायाम का लाभ दें'}, {'en': 'Accerciser Accessibility Explorer', 'hi': 'एक्सेर्साइसर पहुंचनीयता अन्वेषक'}, {'en': 'A list of plugins that are disabled by default', 'hi': 'उन प्लग-इनों की सूची जिन्हें डिफोल्ट रूप से निष्क्रिय किया गया है'}, {'en': 'A list of plugins that are disabled by default.', 'hi': 'उन प्लग-इनों की सूची जिन्हें डिफोल्ट रूप से निष्क्रिय किया गया है'}, {'en': 'Highlight duration', 'hi': 'अवधि को हाइलाइट रकें'}, {'en': 'The duration of the highlight box when selecting accessible nodes.', 'hi': 'पहुंचनीय आसंधि (नोड) को चुनते समय हाइलाइट बक्से की अवधि'}, {'en': 'Highlight fill color', 'hi': 'भराई के रंग को हाइलाइट करें'}, {'en': 'The color and opacity of the highlight fill.', 'hi': 'हाइलाइट किया गया भराई का रंग और पारदर्शिता। '}, {'en': 'Highlight border color', 'hi': 'सीमांत (बोर्डर) के रंग को हाइलाइट करें'}, {'en': 'The color and opacity of the highlight border.', 'hi': 'हाइलाइट किए गए सीमांत का रंग और अपारदर्शिता। '}, {'en': 'The layout for the bottom panel', 'hi': 'निचले पटल के लिए डिफोल्ट प्लग-इन खाका'}, {'en': 'The layout for the bottom panel pluginview.', 'hi': 'निचले पटल के लिए डिफोल्ट प्लग-इन खाका'}, {'en': 'The layout for the top panel', 'hi': 'ऊपरी पटल के लिए डिफोल्ट प्लग-इन खाका'}, {'en': 'The layout for the top panel pluginview.', 'hi': 'ऊपरी पटल के लिए डिफोल्ट प्लग-इन खाका'}, {'en': 'Single layout view', 'hi': 'एकल प्लग-इन दृश्य'}, {'en': 'Available new pluginviews', 'hi': 'एकल प्लग-इन दृश्य'}, {'en': 'The default plugin layout for the top panel.', 'hi': 'ऊपरी पटल के लिए डिफोल्ट प्लग-इन खाका'}, {'en': 'API Browser', 'hi': 'एपीआई विचरक'}, {'en': 'Browse the various methods of the current accessible', 'hi': 'इस समय जिसे प्राप्त किया गया हो, उसकी विभिन्न विधियों (मेथड) में विचरण करें'}, {'en': 'Hide private attributes', 'hi': 'निजी गुणों को छिपाएं'}, {'en': 'Method', 'hi': 'विधि'}, {'en': 'Property', 'hi': 'गुणधर्म'}, {'en': 'Value', 'hi': 'मान'}, {'en': 'IPython Console', 'hi': 'आईपाइथन कन्सोल'}, {'en': 'Interactive console for manipulating currently selected accessible', 'hi': 'इस समय चुने गए एक्सेसेबेल से काम लेने के लिए अंतर्क्रियात्मक कन्सोल'}, {'en': 'Event monitor', 'hi': 'घटना मानिटर'}, {'en': '_ Monitor Events', 'hi': 'घटनाओं को मानिटर करें (_ M) '}, {'en': 'C _ lear Selection', 'hi': 'चुनाव को हटाएं (C _) '}, {'en': 'Everything', 'hi': 'सभी'}, {'en': 'Selected application', 'hi': 'चुने गए अनुप्रयोग'}, {'en': 'Selected accessible', 'hi': 'चुने गए एक्सेसेबेल'}, {'en': 'Source', 'hi': 'स्रोत'}, {'en': 'Event Monitor', 'hi': 'घटना मानिटर'}, {'en': 'Shows events as they occur from selected types and sources', 'hi': 'चुने गए प्रकारों और स्रोतों से घटनाएं जैसे-जैसे घटित होती हैं, उन्हें दर्शाता है'}, {'en': 'Highlight last event entry', 'hi': 'अंतिम प्रविष्ट घटना को हाइलाइट करो'}, {'en': 'Start / stop event recording', 'hi': 'घटना रेकोर्डिंग शुरू करो/रोको'}, {'en': 'Clear event log', 'hi': 'घटना रोजनामचा मिटाओ'}, {'en': '(no description)', 'hi': 'कोई विवरण नहीं'}, {'en': 'Description', 'hi': 'वर्णन'}, {'en': 'Show', 'hi': 'दिखाएं'}, {'en': '_ Accessible', 'hi': 'पहुंचनीय'}, {'en': 'Perform action', 'hi': 'कार्रवाई संपन्न करें'}, {'en': 'Acti _ on', 'hi': 'कार्रवाई (_ o) '}, {'en': 'ID', 'hi': 'आईडी'}, {'en': 'Toolkit', 'hi': 'औजार बक्सा'}, {'en': 'Version', 'hi': 'संस्करण'}, {'en': 'Ap _ plication', 'hi': 'अनुप्रयोग'}, {'en': 'Col _ lection', 'hi': 'संग्रह'}, {'en': '0, 0', 'hi': '0, 0'}, {'en': 'Relative position', 'hi': 'सापेक्ष स्थिति'}, {'en': 'Size', 'hi': 'आकार'}, {'en': 'WIDGET', 'hi': 'विडजेट'}, {'en': 'Layer', 'hi': 'स्तर'}, {'en': 'MDI - Z - order', 'hi': 'एमडीआई-जेड-क्रम'}, {'en': 'Alpha', 'hi': 'अल्फा'}, {'en': 'Absolute position', 'hi': 'निरपेक्ष स्थिति'}, {'en': 'Co _ mponent', 'hi': 'घटक'}, {'en': 'Des _ ktop', 'hi': 'डेस्कटोप'}, {'en': 'Locale:', 'hi': 'स्थान-विशिष्टः'}, {'en': '_ Document', 'hi': 'प्रलेख'}, {'en': 'Hyperlink', 'hi': 'हाइपरकड़ी'}, {'en': 'H _ ypertext', 'hi': 'हाइपरपाठ'}, {'en': 'Position', 'hi': 'स्थिति'}, {'en': 'Description', 'hi': 'वर्णन'}, {'en': 'Locale', 'hi': 'स्थान-विशिष्ट'}, {'en': '_ Image', 'hi': 'छवि (_ I) '}, {'en': 'Lo _ gin Helper', 'hi': 'प्रवेश सहायक'}, {'en': 'Select All', 'hi': 'सभी चुनें'}, {'en': '_ Selection', 'hi': 'चयन (_ S) '}, {'en': 'St _ reamable Content', 'hi': 'प्रवाहित करनेयोग्य विषयवस्तु'}, {'en': 'Selected columns', 'hi': 'चुने गए स्तंभ'}, {'en': 'Selected rows', 'hi': 'चुनी गई पंक्तियां'}, {'en': 'Columns', 'hi': 'स्तंभ'}, {'en': 'Rows', 'hi': 'पंक्तियां'}, {'en': 'Table Information', 'hi': '& lt; bgt; सारणी सूचनाlt;/bgt; '}, {'en': 'name (x, y)', 'hi': 'नाम (x, y) '}, {'en': 'Header:', 'hi': 'शीर्षकः'}, {'en': 'Extents:', 'hi': 'विस्तारः'}, {'en': 'Row', 'hi': 'पंक्ति'}, {'en': 'Column', 'hi': 'स्तंभ'}, {'en': 'Selected Cell', 'hi': '& lt; bgt; चुनी गई कोशिकाlt;/bgt; '}, {'en': '_ Table', 'hi': 'सारणी (_ T) '}, {'en': 'Offset', 'hi': 'ओफसेट'}, {'en': 'Include defaults', 'hi': 'डिफोल्टों को शामिल करें'}, {'en': 'Te _ xt', 'hi': 'पाठ (_ x) '}, {'en': 'Current value', 'hi': 'मौजूदा मान'}, {'en': 'Minimum increment', 'hi': 'न्यूनतम वृद्धि'}, {'en': 'Maximum value', 'hi': 'अधिकतम मान'}, {'en': 'Minimum value', 'hi': 'न्यूनतम मान'}, {'en': 'Val _ ue', 'hi': 'मान'}, {'en': 'Interface Viewer', 'hi': 'अंतराफलक दर्शक'}, {'en': 'Allows viewing of various interface properties', 'hi': 'अंतराफलक के विभिन्न गुणों को देखने देता है'}, {'en': '(not implemented)', 'hi': '(क्रियान्वित नहीं हुआ है) '}, {'en': 'Name', 'hi': 'नाम'}, {'en': 'URI', 'hi': 'यूआरआई'}, {'en': 'Start', 'hi': 'प्रारंभ'}, {'en': 'End', 'hi': 'अंत'}, {'en': 'Too many selectable children', 'hi': 'बहुत अधिक चयनीय शिशु हैं'}, {'en': 'Quick Select', 'hi': 'तेज चुनाव'}, {'en': 'Plugin with various methods of selecting accessibles quickly.', 'hi': 'प्लग-इन जिसमें हैं एक्सेसेबेलों को तेजी से चुनने के लिए कई विधियां'}, {'en': 'Inspect last focused accessible', 'hi': 'अंतिम बार फोकस किए गए एक्सेसेबल को जांचें'}, {'en': 'Inspect accessible under mouse', 'hi': 'माउस के अधीन जो एक्सेसेबल है, उसे जांचें'}, {'en': 'Sche _ ma:', 'hi': 'स्कीमाः'}, {'en': 'V _ alidate', 'hi': 'सत्यापन'}, {'en': 'Idle', 'hi': 'खाली'}, {'en': 'No description', 'hi': 'कोई विवरण नहीं'}, {'en': 'AT - SPI Validator', 'hi': 'एटी-एसपीआई सत्यापक'}, {'en': 'Validates application accessibility', 'hi': 'अनुप्रयोग की पहुंचनीयता का सत्यापन करता है'}, {'en': 'Level', 'hi': 'स्तर'}, {'en': 'Role', 'hi': 'भूमिका'}, {'en': 'Saving', 'hi': 'सहेज रहे हैं'}, {'en': 'Validating', 'hi': 'पुष्टि कर रहे हैं'}, {'en': 'EXCEPT', 'hi': 'अपवाद'}, {'en': 'ERROR', 'hi': 'त्रुटि'}, {'en': 'WARN', 'hi': 'चेतावनी'}, {'en': 'INFO', 'hi': 'सूचना'}, {'en': 'DEBUG', 'hi': 'दोषमुक्त करें'}, {'en': 'Basic', 'hi': 'मूल'}, {'en': 'Tests fundamental GUI application accessibility', 'hi': 'मूलभूत जीयूआई अनुप्रयोग पहुंचनीयता का परीक्षण करता है'}, {'en': 'actionable% s is not focusable or selectable', 'hi': '% s जिस पर कार्रवाई हो सकती है, वह न तो फोकस करने योग्य है न ही चयनीय'}, {'en': 'interactive% s is not actionable', 'hi': 'अंतर्क्रियात्मक% s कार्रवाई करने योग्य नहीं है'}, {'en': 'more than one focused widget', 'hi': 'एक से अधिक विडजेट फोकस में है'}, {'en': '% s has no text interface', 'hi': '% s का कोई पाठ अंतराफलक नहीं है'}, {'en': '% s index in parent does not match child index', 'hi': 'अभिभावक में% s सूची शिशु सूची सेमेल नहीं खाती'}, {'en': 'Missing reciprocal for% s relation', 'hi': '% s संबंध के लिए अन्योन्य गायब है'}, {'en': '% s missing name or label', 'hi': '% s गायब नाम या सूचक'}, {'en': 'focusable% s has a table interface, but not a selection interface', 'hi': 'फोकस योग्य% s में सारणी अंतराफलक है, कोई चयनीय अंतराफलक नहीं हैbutton has focused state without focusable state'}, {'en': '% s has% s state without% s state', 'hi': '% s में% s स्थिति है, पर उसके साथ% s स्थिति नहीं है'}, {'en': '% s does not belong to a set', 'hi': '% s किसी समुच्चय का सदस्य नहीं है'}, {'en': '% (rolename) s index% (num) d does not match row and column', 'hi': '% (rolename) s सूची% (num) d पंक्ति और स्तंभ से मेल नहीं खातेparent indexrow and column index'}, {'en': '% (rolename) s parent index% (num1) d does not match row and column index% (num2) d', 'hi': '% (rolename) s अभिभावक सूची% (num1) d पंक्ति और स्तंभ सूची% (num2) d से मेल नहीं खाते'}, {'en': '% s has no name or description', 'hi': '% s का कोई नाम या विवरण नहीं'}, {'en': '_ Preferences...', 'hi': 'पसंद (_ P)... '}, {'en': '_ Contents', 'hi': 'विषय सूची (_ C) '}, {'en': 'Accerciser could not see the applications on your desktop. You must enable desktop accessibility to fix this problem. Do you want to enable it now?', 'hi': 'एक्सेरसाइसर आपके डेस्कटोप में मौजूद अनुप्रयोग नहीं देख पाया। इस समस्या के समाधान के लिए आपको डेस्कटोप पहुंचनीयता को सक्रिय करना होगा। क्या आप इसे सक्रिय करना चाहते हैं? '}, {'en': 'Note: Changes only take effect after logout.', 'hi': 'टिप्पणीः परिवर्तन सत्रांत (लोगआउट) के बाद ही प्रभाव में आएंगे। '}, {'en': 'Children', 'hi': 'शिशु'}, {'en': '_ Refresh Registry', 'hi': 'पंजी ताजा करें (_ R) '}, {'en': 'Refresh all', 'hi': 'सभी को ताजा करें'}, {'en': 'Refresh _ Node', 'hi': 'आसंधि (नोड) को ताजा करें (_ N) '}, {'en': \"Refresh selected node 's children\", 'hi': 'चुनी गई आसंधियों (नोड) के शिशुओं को ताजा करें'}, {'en': 'Component', 'hi': 'घटक'}, {'en': 'Task', 'hi': 'कार्य'}, {'en': 'Key', 'hi': 'कुंजी'}, {'en': 'Alt', 'hi': 'आल्ट'}, {'en': 'Ctrl', 'hi': 'कंट्रोल'}, {'en': 'Shift', 'hi': 'शिफ्ट'}, {'en': 'Top panel', 'hi': 'ऊपरी पटल'}, {'en': 'Bottom panel', 'hi': 'निचला पटल'}, {'en': 'accerciser Preferences', 'hi': 'एक्सेर्साइसर पसंद'}, {'en': 'Plugins', 'hi': 'प्लगइन्स'}, {'en': 'Global Hotkeys', 'hi': 'सार्वत्रिक फटाफट कुंजियां'}, {'en': 'Highlighting', 'hi': 'हाइलाइटन'}, {'en': 'Highlight duration:', 'hi': 'हाइलाइट अवधिः'}, {'en': 'Border color:', 'hi': 'सीमांत रंगः'}, {'en': 'The border color of the highlight box', 'hi': 'हाइलाइट बक्से का सीमांत रंग'}, {'en': 'Fill color:', 'hi': 'भराई का रंगः'}, {'en': 'The fill color of the highlight box', 'hi': 'हाइलाइट बक्से का भराई रंग'}, {'en': 'translator - credits', 'hi': 'रविशंकर श्रीवास्तव (raviratlami @yahoo. com) राजेश रंजन (rajeshkajha @yahoo. com) ल. बालसुब्रमण्यम (l. balasubramaniam @gmail. com) '}, {'en': 'An interactive Python accessibility explorer', 'hi': 'एक अंतर्क्रियात्मक पाइथन पहुंचनीयता अन्वेषक'}, {'en': 'accerciser Copyright (c) 2006, 2007 IBM Corporation (BSD)', 'hi': 'एक्सेर्साइसर सर्वाधिकार © 2006,2007 आईबीएम निगम (बीएसडी) '}, {'en': 'The New BSD License See the COPYING and NOTICE files for details.', 'hi': 'नया बीएसडी लाइसेन्स विवरण के लिए देखिए प्रतिलिपीकरण और सूचना फाइलें'}, {'en': 'Web site', 'hi': 'जाल स्थल'}, {'en': '_ Add Bookmark...', 'hi': 'पसंद जोड़ें... (_ A) '}, {'en': 'Bookmark selected accessible.', 'hi': 'चुने गए एक्सेसेबलों को पुस्तक-चिह्नित करें'}, {'en': '_ Edit Bookmarks...', 'hi': 'पुस्तक चिह्न संपादित करें (_ E)... '}, {'en': 'Manage bookmarks.', 'hi': 'पुस्तक-चिह्नों को प्रबंधित करें। '}, {'en': 'Edit Bookmarks...', 'hi': 'पुस्तक चिह्नों को संपादित करें... '}, {'en': 'Title', 'hi': 'शीर्षक'}, {'en': 'Application', 'hi': 'अनुप्रयोग'}, {'en': 'Path', 'hi': 'पथ'}, {'en': 'Add Bookmark...', 'hi': 'पुस्तक-चिह्न जोड़ें... '}, {'en': 'Title:', 'hi': 'शीर्षकः'}, {'en': 'Application:', 'hi': 'अनुप्रयोगः'}, {'en': 'Path:', 'hi': 'पथः'}, {'en': 'Plugin Errors', 'hi': 'प्लग-इन त्रुटियां'}, {'en': 'View', 'hi': 'दृश्य'}, {'en': 'No view', 'hi': 'कोई दृश्य नहीं है'}, {'en': '_ Single plugins view', 'hi': 'एकल प्लग-इन दृश्य'}, {'en': 'Plugin View', 'hi': 'प्लग-इन दृश्य'}, {'en': 'Plugin View (% d)', 'hi': 'प्लग-इन दृश्य (% d) '}, {'en': '_ New view...', 'hi': 'नया दृश्य... '}, {'en': 'New View...', 'hi': 'नया दृश्य... '}, {'en': '_ File', 'hi': 'फाइल (F) '}, {'en': '_ Edit', 'hi': 'संपादित करें'}, {'en': '_ Bookmarks', 'hi': 'पुस्तक-चिह्न संपादित करें (_ E)... '}, {'en': '_ View', 'hi': 'दृश्य _ (V) '}, {'en': '_ Help', 'hi': 'मदद'}, {'en': 'Accerciser', 'hi': 'एक्सेर्साइसर'}, {'en': 'Give your application an accessibility workout', 'hi': 'अपने अनुप्रयोग को पहुंचनीयता व्यायाम का लाभ दें'}, {'en': 'Accerciser Accessibility Explorer', 'hi': 'एक्सेर्साइसर पहुंचनीयता अन्वेषक'}, {'en': 'A list of plugins that are disabled by default', 'hi': 'उन प्लग-इनों की सूची जिन्हें डिफोल्ट रूप से निष्क्रिय किया गया है'}, {'en': 'A list of plugins that are disabled by default.', 'hi': 'उन प्लग-इनों की सूची जिन्हें डिफोल्ट रूप से निष्क्रिय किया गया है'}, {'en': 'Highlight duration', 'hi': 'अवधि को हाइलाइट रकें'}, {'en': 'The duration of the highlight box when selecting accessible nodes.', 'hi': 'पहुंचनीय आसंधि नोड को चुनते समय हाइलाइट बक्से की अवधि. '}, {'en': 'Highlight fill color', 'hi': 'भराई के रंग को हाइलाइट करें'}, {'en': 'The color and opacity of the highlight fill.', 'hi': 'हाइलाइट किया गया भराई का रंग और पारदर्शिता। '}, {'en': 'Highlight border color', 'hi': 'सीमांत (बोर्डर) के रंग को हाइलाइट करें'}, {'en': 'The color and opacity of the highlight border.', 'hi': 'हाइलाइट किए गए सीमांत का रंग और अपारदर्शिता। '}, {'en': 'Horizontal split', 'hi': 'क्षैतिज विभाजन'}, {'en': 'Position of the horizontal split of the main window.', 'hi': 'मुख्य विंडो की क्षैतिज विभाजन की स्थिति. '}, {'en': 'Vertical split', 'hi': 'अनुलंब विभाजित'}, {'en': 'Position of the vertical split of the main window.', 'hi': 'मुख्य विंडो की अनुलंब विभाजित की स्थिति. '}, {'en': 'Default window height', 'hi': 'तयशुदा विंडो ऊंचाई'}, {'en': 'The window height value.', 'hi': 'विंडो की ऊंचाई का मान. '}, {'en': 'Default window width', 'hi': 'तयशुदा विंडो चौड़ाई'}, {'en': 'The window width value.', 'hi': 'विंडो चौड़ाई मान. '}, {'en': 'The layout for the bottom panel', 'hi': 'नीचे के पैनल के लिए लेआउट'}, {'en': 'The layout for the bottom panel pluginview.', 'hi': 'नीचे पैनल pluginview के लिए लेआउट. '}, {'en': 'The layout for the top panel', 'hi': 'ऊपरी पटल के लिए खाका'}, {'en': 'The layout for the top panel pluginview.', 'hi': 'शीर्ष पैनल pluginview के लिए लेआउट. '}, {'en': 'Single layout view', 'hi': 'एकल लेआउट दृश्य'}, {'en': 'View plugins in a single layout.', 'hi': 'एक ही खाका में प्लगिन देखें. '}, {'en': 'Available new pluginviews', 'hi': 'नई pluginviews उपलब्ध है'}, {'en': 'This list contains all the new available pluginviews', 'hi': 'इस सूची में सभी नई उपलब्ध pluginviews शामिल हैं'}, {'en': 'The pluginview layout', 'hi': 'pluginview लेआउट'}, {'en': 'The default plugin layout for the top panel.', 'hi': 'ऊपरी पटल के लिए डिफोल्ट प्लग-इन खाका. '}, {'en': 'Window height', 'hi': 'विंडो की ऊँचाई'}, {'en': 'Window height value.', 'hi': 'विंडो की ऊंचाई का मान. '}, {'en': 'Window width', 'hi': 'विंडो की चौड़ाई'}, {'en': 'Window width value.', 'hi': 'विंडो चौड़ाई मान. '}, {'en': 'Hotkey combination', 'hi': 'hotkey संयोजन'}, {'en': 'Hotkey combination for related action.', 'hi': 'संबंधित कार्रवाई के लिए hotkey संयोजन. '}, {'en': 'API Browser', 'hi': 'एपीआई विचरक'}, {'en': 'Browse the various methods of the current accessible', 'hi': 'इस समय जिसे प्राप्त किया गया हो, उसकी विभिन्न विधियों (मेथड) में विचरण करें'}, {'en': 'Hide private attributes', 'hi': 'निजी गुणों को छिपाएं'}, {'en': 'Method', 'hi': 'विधि'}, {'en': 'Property', 'hi': 'गुणधर्म'}, {'en': 'Value', 'hi': 'मान'}, {'en': 'IPython Console', 'hi': 'आईपाइथन कन्सोल'}, {'en': 'Interactive console for manipulating currently selected accessible', 'hi': 'इस समय चुने गए एक्सेसेबेल से काम लेने के लिए अंतर्क्रियात्मक कन्सोल'}, {'en': 'Event monitor', 'hi': 'घटना मानिटर'}, {'en': '_ Monitor Events', 'hi': 'घटनाओं को मानिटर करें (_ M) '}, {'en': 'C _ lear Selection', 'hi': 'चुनाव को हटाएं (C _) '}, {'en': 'Everything', 'hi': 'सभी'}, {'en': 'Selected application', 'hi': 'चुने गए अनुप्रयोग'}, {'en': 'Selected accessible', 'hi': 'चुने गए एक्सेसेबेल'}, {'en': 'Source', 'hi': 'स्रोत'}, {'en': 'Event Monitor', 'hi': 'घटना मानिटर'}, {'en': 'Shows events as they occur from selected types and sources', 'hi': 'चुने गए प्रकारों और स्रोतों से घटनाएं जैसे-जैसे घटित होती हैं, उन्हें दर्शाता है'}, {'en': 'Highlight last event entry', 'hi': 'अंतिम प्रविष्ट घटना को हाइलाइट करो'}, {'en': 'Start / stop event recording', 'hi': 'घटना रेकोर्डिंग शुरू करो/रोको'}, {'en': 'Clear event log', 'hi': 'घटना रोजनामचा मिटाओ'}, {'en': 'Child count', 'hi': 'बाल गणना'}, {'en': '(no description)', 'hi': '(कोई विवरण नहीं) '}, {'en': 'Description', 'hi': 'वर्णन'}, {'en': 'States', 'hi': 'राज्य'}, {'en': 'Show', 'hi': 'दिखाएं'}, {'en': 'Relations', 'hi': 'संबंध'}, {'en': 'Attributes', 'hi': 'गुणधर्म'}, {'en': '_ Accessible', 'hi': 'पहुंचनीय'}, {'en': 'Perform action', 'hi': 'कार्रवाई संपन्न करें'}, {'en': 'Acti _ on', 'hi': 'कार्रवाई (_ o) '}, {'en': 'ID', 'hi': 'आईडी'}, {'en': 'Toolkit', 'hi': 'औजार बक्सा'}, {'en': 'Version', 'hi': 'संस्करण'}, {'en': 'Ap _ plication', 'hi': 'अनुप्रयोग'}, {'en': 'Col _ lection', 'hi': 'संग्रह'}, {'en': '0, 0', 'hi': '0, 0'}, {'en': 'Relative position', 'hi': 'सापेक्ष स्थिति'}, {'en': 'Size', 'hi': 'आकार'}, {'en': 'WIDGET', 'hi': 'विडजेट'}, {'en': 'Layer', 'hi': 'स्तर'}, {'en': 'MDI - Z - order', 'hi': 'एमडीआई-जेड-क्रम'}, {'en': 'Alpha', 'hi': 'अल्फा'}, {'en': 'Absolute position', 'hi': 'निरपेक्ष स्थिति'}, {'en': 'Co _ mponent', 'hi': 'घटक'}, {'en': 'Des _ ktop', 'hi': 'डेस्कटोप'}, {'en': 'Locale:', 'hi': 'स्थान-विशिष्टः'}, {'en': '_ Document', 'hi': 'प्रलेख'}, {'en': 'Hyperlink', 'hi': 'हाइपरकड़ी'}, {'en': 'H _ ypertext', 'hi': 'हाइपरपाठ'}, {'en': 'Position', 'hi': 'स्थिति'}, {'en': 'Description', 'hi': 'वर्णन'}, {'en': 'Locale', 'hi': 'स्थान-विशिष्ट'}, {'en': '_ Image', 'hi': 'छवि (_ I) '}, {'en': 'Lo _ gin Helper', 'hi': 'प्रवेश सहायक'}, {'en': 'Select All', 'hi': 'सभी चुनें'}, {'en': '_ Selection', 'hi': 'चयन (_ S) '}, {'en': 'St _ reamable Content', 'hi': 'प्रवाहित करनेयोग्य विषयवस्तु'}, {'en': 'Caption:', 'hi': 'शीर्षकः'}, {'en': 'Summary:', 'hi': 'सारांशः'}, {'en': 'Selected columns', 'hi': 'चुने गए स्तंभ'}, {'en': 'Selected rows', 'hi': 'चुनी गई पंक्तियां'}, {'en': 'Columns', 'hi': 'स्तंभ'}, {'en': 'Rows', 'hi': 'पंक्तियां'}, {'en': 'Table Information', 'hi': 'सारणी सूचना'}, {'en': 'name (x, y)', 'hi': 'नाम (x, y) '}, {'en': 'Header:', 'hi': 'शीर्षकः'}, {'en': 'Extents:', 'hi': 'विस्तारः'}, {'en': 'Row', 'hi': 'पंक्ति'}, {'en': 'Column', 'hi': 'स्तंभ'}, {'en': 'Selected Cell', 'hi': 'चुनी गई कोशिका'}, {'en': '_ Table', 'hi': 'सारणी (_ T) '}, {'en': 'Text', 'hi': 'पाठ'}, {'en': 'Offset', 'hi': 'ओफसेट'}, {'en': 'Include defaults', 'hi': 'डिफोल्टों को शामिल करें'}, {'en': 'Start: 0', 'hi': 'प्रारंभः 0'}, {'en': 'End: 0', 'hi': 'अंतः 0'}, {'en': 'Te _ xt', 'hi': 'पाठ (_ x) '}, {'en': 'Current value', 'hi': 'मौजूदा मान'}, {'en': 'Minimum increment', 'hi': 'न्यूनतम वृद्धि'}, {'en': 'Maximum value', 'hi': 'अधिकतम मान'}, {'en': 'Minimum value', 'hi': 'न्यूनतम मान'}, {'en': 'Val _ ue', 'hi': 'मान'}, {'en': 'unknown', 'hi': 'अज्ञात'}, {'en': 'Interface Viewer', 'hi': 'अंतराफलक दर्शक'}, {'en': 'Allows viewing of various interface properties', 'hi': 'अंतराफलक के विभिन्न गुणों को देखने देता है'}, {'en': '(not implemented)', 'hi': '(क्रियान्वित नहीं हुआ है) '}, {'en': 'Name', 'hi': 'नाम'}, {'en': 'URI', 'hi': 'यूआरआई'}, {'en': 'Start', 'hi': 'प्रारंभ'}, {'en': 'End', 'hi': 'अंत'}, {'en': 'Too many selectable children', 'hi': 'बहुत अधिक चयनीय शिशु हैं'}, {'en': '(Editable)', 'hi': '(संशोधनीय) '}, {'en': 'Quick Select', 'hi': 'तेज चुनाव'}, {'en': 'Plugin with various methods of selecting accessibles quickly.', 'hi': 'प्लग-इन जिसमें हैं एक्सेसेबेलों को तेजी से चुनने के लिए कई विधियां'}, {'en': 'Inspect last focused accessible', 'hi': 'अंतिम बार फोकस किए गए एक्सेसेबल को जांचें'}, {'en': 'Inspect accessible under mouse', 'hi': 'माउस के अधीन जो एक्सेसेबल है, उसे जांचें'}, {'en': 'Sche _ ma:', 'hi': 'स्कीमाः'}, {'en': 'V _ alidate', 'hi': 'सत्यापन'}, {'en': 'Idle', 'hi': 'खाली'}, {'en': 'No description', 'hi': 'कोई विवरण नहीं'}, {'en': 'AT - SPI Validator', 'hi': 'एटी-एसपीआई सत्यापक'}, {'en': 'Validates application accessibility', 'hi': 'अनुप्रयोग की पहुंचनीयता का सत्यापन करता है'}, {'en': 'Level', 'hi': 'स्तर'}, {'en': 'Role', 'hi': 'भूमिका'}, {'en': 'Saving', 'hi': 'सहेज रहे हैं'}, {'en': 'Validating', 'hi': 'पुष्टि कर रहे हैं'}, {'en': 'EXCEPT', 'hi': 'अपवाद'}, {'en': 'ERROR', 'hi': 'त्रुटि'}, {'en': 'WARN', 'hi': 'चेतावनी'}, {'en': 'INFO', 'hi': 'सूचना'}, {'en': 'DEBUG', 'hi': 'दोषमुक्त करें'}, {'en': 'Basic', 'hi': 'मूल'}, {'en': 'Tests fundamental GUI application accessibility', 'hi': 'मूलभूत जीयूआई अनुप्रयोग पहुंचनीयता का परीक्षण करता है'}, {'en': 'actionable% s is not focusable or selectable', 'hi': '% s जिस पर कार्रवाई हो सकती है, वह न तो फोकस करने योग्य है न ही चयनीय'}, {'en': 'interactive% s is not actionable', 'hi': 'अंतर्क्रियात्मक% s कार्रवाई करने योग्य नहीं है'}, {'en': 'more than one focused widget', 'hi': 'एक से अधिक विडजेट फोकस में है'}, {'en': '% s has no text interface', 'hi': '% s का कोई पाठ अंतराफलक नहीं है'}, {'en': '% s index in parent does not match child index', 'hi': 'अभिभावक में% s सूची शिशु सूची सेमेल नहीं खाती'}, {'en': 'Missing reciprocal for% s relation', 'hi': '% s संबंध के लिए अन्योन्य गायब है'}, {'en': '% s missing name or label', 'hi': '% s गायब नाम या सूचक'}, {'en': 'focusable% s has a table interface, but not a selection interface', 'hi': 'फोकस योग्य% s में सारणी अंतराफलक है, लेकिन कोई चयनीय अंतराफलक नहीं हैbutton has focused state without focusable state'}, {'en': '% s has% s state without% s state', 'hi': '% s में% s स्थिति है, पर उसके साथ% s स्थिति नहीं है'}, {'en': '% s does not belong to a set', 'hi': '% s किसी समुच्चय का सदस्य नहीं है'}, {'en': '% (rolename) s index% (num) d does not match row and column', 'hi': '% (rolename) s सूची% (num) d पंक्ति और स्तंभ से मेल नहीं खातेparent indexrow and column index'}, {'en': '% (rolename) s parent index% (num1) d does not match row and column index% (num2) d', 'hi': '% (rolename) s अभिभावक सूची% (num1) d पंक्ति और स्तंभ सूची% (num2) d से मेल नहीं खाते'}, {'en': '% s has no name or description', 'hi': '% s का कोई नाम या विवरण नहीं'}, {'en': '_ Preferences...', 'hi': 'पसंद (_ P)... '}, {'en': '_ Contents', 'hi': 'विषय सूची (_ C) '}, {'en': 'Accerciser could not see the applications on your desktop. You must enable desktop accessibility to fix this problem. Do you want to enable it now?', 'hi': 'एक्सेरसाइसर आपके डेस्कटोप में मौजूद अनुप्रयोग नहीं देख पाया। इस समस्या के समाधान के लिए आपको डेस्कटोप पहुंचनीयता को सक्रिय करना होगा। क्या आप इसे सक्रिय करना चाहते हैं? '}, {'en': 'Note: Changes only take effect after logout.', 'hi': 'टिप्पणीः परिवर्तन सत्रांत (लोगआउट) के बाद ही प्रभाव में आएंगे। '}, {'en': '< dead >', 'hi': '<dead> '}, {'en': 'Children', 'hi': 'शिशु'}, {'en': '_ Hide / Show Applications without children', 'hi': 'बच्चों के बिना अनुप्रयोग छिपाएँ/दिखाएँ (_ H) '}, {'en': '_ Refresh Registry', 'hi': 'पंजी ताजा करें (_ R) '}, {'en': 'Refresh all', 'hi': 'सभी को ताजा करें'}, {'en': 'Refresh _ Node', 'hi': 'आसंधि (नोड) को ताजा करें (_ N) '}, {'en': \"Refresh selected node 's children\", 'hi': 'चुनी गई आसंधियों (नोड) के शिशुओं को ताजा करें'}, {'en': 'Component', 'hi': 'घटक'}, {'en': 'Task', 'hi': 'कार्य'}, {'en': 'Key', 'hi': 'कुंजी'}, {'en': 'Alt', 'hi': 'आल्ट'}, {'en': 'Ctrl', 'hi': 'कंट्रोल'}, {'en': 'Shift', 'hi': 'शिफ्ट'}, {'en': 'Top panel', 'hi': 'ऊपरी पटल'}, {'en': 'Bottom panel', 'hi': 'निचला पटल'}, {'en': 'accerciser Preferences', 'hi': 'एक्सेर्साइसर पसंद'}, {'en': 'Plugins', 'hi': 'प्लगइन्स'}, {'en': 'Global Hotkeys', 'hi': 'सार्वत्रिक फटाफट कुंजियां'}, {'en': 'Highlighting', 'hi': 'हाइलाइटन'}, {'en': 'Highlight duration:', 'hi': 'हाइलाइट अवधिः'}, {'en': 'Border color:', 'hi': 'सीमांत रंगः'}, {'en': 'The border color of the highlight box', 'hi': 'हाइलाइट बक्से का सीमांत रंग'}, {'en': 'Fill color:', 'hi': 'भराई का रंगः'}, {'en': 'The fill color of the highlight box', 'hi': 'हाइलाइट बक्से का भराई रंग'}, {'en': 'translator - credits', 'hi': 'रविशंकर श्रीवास्तव (raviratlami @yahoo. com) राजेश रंजन (rajeshkajha @yahoo. com) ल. बालसुब्रमण्यम (l. balasubramaniam @gmail. com) '}, {'en': 'An interactive Python accessibility explorer', 'hi': 'एक अंतर्क्रियात्मक पाइथन पहुंचनीयता अन्वेषक'}, {'en': 'accerciser Copyright (c) 2006, 2007 IBM Corporation (BSD)', 'hi': 'एक्सेर्साइसर सर्वाधिकार (c) 2006,2007 आईबीएम निगम (बीएसडी) '}, {'en': 'The New BSD License See the COPYING and NOTICE files for details.', 'hi': 'नया बीएसडी लाइसेन्स विवरण के लिए देखिए प्रतिलिपीकरण और सूचना फाइलें'}, {'en': 'Web site', 'hi': 'जाल स्थल'}, {'en': '_ Add Bookmark...', 'hi': 'पसंद जोड़ें... (_ A) '}, {'en': 'Bookmark selected accessible.', 'hi': 'चुने गए एक्सेसेबलों को पुस्तक-चिह्नित करें'}, {'en': '_ Edit Bookmarks...', 'hi': 'पुस्तक चिह्न संपादित करें (_ E)... '}, {'en': 'Manage bookmarks.', 'hi': 'पुस्तक-चिह्नों को प्रबंधित करें। '}, {'en': 'Edit Bookmarks...', 'hi': 'पुस्तक चिह्नों को संपादित करें... '}, {'en': 'Title', 'hi': 'शीर्षक'}, {'en': 'Application', 'hi': 'अनुप्रयोग'}, {'en': 'Path', 'hi': 'पथ'}, {'en': 'Add Bookmark...', 'hi': 'पुस्तक-चिह्न जोड़ें... '}, {'en': 'Title:', 'hi': 'शीर्षकः'}, {'en': 'Application:', 'hi': 'अनुप्रयोगः'}, {'en': 'Path:', 'hi': 'पथः'}, {'en': 'Plugin Errors', 'hi': 'प्लग-इन त्रुटियांviewport'}, {'en': 'View', 'hi': 'दृश्य'}, {'en': 'No view', 'hi': 'कोई दृश्य नहीं है'}, {'en': '_ Single plugins view', 'hi': 'एकल प्लग-इन दृश्य'}, {'en': 'Plugin View', 'hi': 'प्लग-इन दृश्य'}, {'en': 'Plugin View (% d)', 'hi': 'प्लग-इन दृश्य (% d) '}, {'en': '_ New view...', 'hi': 'नया दृश्य... (_ N) '}, {'en': 'New View...', 'hi': 'नया दृश्य... '}, {'en': '_ File', 'hi': 'फाइल (F) '}, {'en': '_ Edit', 'hi': 'संपादित करेंmenu'}, {'en': '_ Bookmarks', 'hi': 'पसंद (_ B) menu'}, {'en': '_ View', 'hi': 'दृश्य _ (V) '}, {'en': '_ Help', 'hi': 'मदद'}, {'en': 'Accerciser', 'hi': 'एक्सेर्साइसर'}, {'en': 'Give your application an accessibility workout', 'hi': 'अपने अनुप्रयोग को पहुंचनीयता व्यायाम का लाभ दें'}, {'en': 'Accerciser Accessibility Explorer', 'hi': 'एक्सेर्साइसर पहुंचनीयता अन्वेषक'}, {'en': 'A list of plugins that are disabled by default', 'hi': 'उन प्लग-इनों की सूची जिन्हें डिफोल्ट रूप से निष्क्रिय किया गया है'}, {'en': 'A list of plugins that are disabled by default.', 'hi': 'उन प्लग-इनों की सूची जिन्हें डिफोल्ट रूप से निष्क्रिय किया गया है'}]])"
      ]
     },
     "execution_count": 29,
     "metadata": {},
     "output_type": "execute_result"
    }
   ],
   "source": [
    "def extract_texts(dataset, lang1=\"en\", lang2=\"hi\"):\n",
    "    src = [item[lang1] for item in dataset[\"translation\"]]\n",
    "    tgt = [item[lang2] for item in dataset[\"translation\"]]\n",
    "    return src, tgt\n",
    "\n",
    "train_src, train_tgt = extract_texts(ds['train'])\n",
    "val_src, val_tgt = extract_texts(ds['validation'])\n"
   ]
  },
  {
   "cell_type": "code",
   "execution_count": 3,
   "id": "35c3f554",
   "metadata": {},
   "outputs": [
    {
     "name": "stdout",
     "output_type": "stream",
     "text": [
      "Length of dataset: 5127\n",
      "\n",
      "Quantum Mechanics: A Detailed Overview\n",
      "--------------------------------------\n",
      "\n",
      "Quantum Mechanics (QM) is the foundational theory of physics that describes nature at the smallest scales: atoms, subatomic particles, and photons. It is a paradigm-shifting framework that departs from classical mechanics and has deep implications not just in physics, but also in computation, information theory, and even machine learning.\n",
      "\n",
      "1. Introduction to Quantum Mechanics\n",
      "------------------------------------\n",
      "At i\n"
     ]
    }
   ],
   "source": [
    "with open(r\"D:\\Documents\\Deep_Learning\\Generative-Adversarial-Networks\\Transformers\\data\\quantum_mechanics_llm.txt\", \"r\", encoding= 'utf-8') as f:\n",
    "    text = f.read()\n",
    "    \n",
    "print(f\"Length of dataset: {len(text)}\")\n",
    "print(text[:500])"
   ]
  },
  {
   "cell_type": "markdown",
   "id": "a8254727",
   "metadata": {},
   "source": [
    "**2. Create a Vocabulary and Tokenizer**\n",
    "We will use a character-level tokenizer as outlined in the PDF"
   ]
  },
  {
   "cell_type": "code",
   "execution_count": 4,
   "id": "9c6b1048",
   "metadata": {},
   "outputs": [
    {
     "name": "stdout",
     "output_type": "stream",
     "text": [
      "[37, 70, 50, 63, 69, 70, 62]\n",
      "Quantum\n"
     ]
    }
   ],
   "source": [
    "chars = sorted(list(set(text)))\n",
    "vocabs_size = len(chars)\n",
    "\n",
    "stoi = {ch: i for i, ch in enumerate(chars)}\n",
    "itos = {i: ch for ch, i in stoi.items()}\n",
    "\n",
    "def encode(s):\n",
    "    return [stoi[c] for c in s]\n",
    "\n",
    "def decode(l):\n",
    "    return ''.join([itos[i] for i in l])\n",
    "\n",
    "print(encode('Quantum'))\n",
    "print(decode(encode('Quantum')))"
   ]
  },
  {
   "cell_type": "markdown",
   "id": "3cceb3af",
   "metadata": {},
   "source": [
    "#### **3. Prepare the Dataset for training**\n",
    "- Split into training and validation sets and generate inputs and outputs.\n"
   ]
  },
  {
   "cell_type": "code",
   "execution_count": 6,
   "id": "1e969e55",
   "metadata": {},
   "outputs": [],
   "source": [
    "import torch\n",
    "\n",
    "data = torch.tensor(encode(text), dtype= torch.long)\n",
    "n  = int(0.9 * len(data))\n",
    "train_data = data[0:n]\n",
    "val_data = data[n:]\n",
    "\n",
    "block_size = 128\n",
    "\n",
    "def get_batch(split, batch_size= 64):\n",
    "    data_split = train_data if split == 'train' else val_data\n",
    "    ix = torch.randint(len(data_split) - block_size, (batch_size, ))\n",
    "    x = torch.stack([data_split[i:i+block_size] for i in ix])\n",
    "    y = torch.stack([data_split[i+1:i+1+block_size] for i in ix])\n",
    "    return x, y\n"
   ]
  },
  {
   "cell_type": "code",
   "execution_count": 8,
   "id": "844e79a0",
   "metadata": {},
   "outputs": [
    {
     "data": {
      "text/plain": [
       "torch.Size([5127])"
      ]
     },
     "execution_count": 8,
     "metadata": {},
     "output_type": "execute_result"
    }
   ],
   "source": [
    "data.shape"
   ]
  },
  {
   "cell_type": "code",
   "execution_count": 9,
   "id": "39b91d7e",
   "metadata": {},
   "outputs": [
    {
     "name": "stdout",
     "output_type": "stream",
     "text": [
      "torch.Size([64, 128]) torch.Size([64, 128])\n"
     ]
    }
   ],
   "source": [
    "x, y = get_batch(\"train\")\n",
    "print(x.shape, y.shape)"
   ]
  },
  {
   "cell_type": "markdown",
   "id": "3cb81599",
   "metadata": {},
   "source": [
    "#### **4. Define a Simple LLM Model (Like GPT-Like Block)**\n",
    "- Here a minimal transformer block model"
   ]
  },
  {
   "cell_type": "code",
   "execution_count": 11,
   "id": "8ea10b90",
   "metadata": {},
   "outputs": [],
   "source": [
    "import torch.nn as nn\n",
    "import torch.nn.functional as F\n",
    "\n",
    "class TinyTransformer(nn.Module):\n",
    "    def __init__(self, vocab_size, n_embed):\n",
    "        super().__init__()\n",
    "        self.embed = nn.Embedding(vocab_size, n_embed)\n",
    "        self.fc = nn.Linear(n_embed, vocab_size)\n",
    "\n",
    "    def forward(self, x, targets=None):\n",
    "        x = self.embed(x)  # (B, T, C)\n",
    "        logits = self.fc(x)  # (B, T, vocab_size)\n",
    "\n",
    "        if targets is None:\n",
    "            loss = None\n",
    "        else:\n",
    "            B, T, C = logits.shape\n",
    "            logits = logits.view(B*T, C)\n",
    "            targets = targets.view(B*T)\n",
    "            loss = F.cross_entropy(logits, targets)\n",
    "\n",
    "        return logits, loss"
   ]
  },
  {
   "cell_type": "markdown",
   "id": "bcae3047",
   "metadata": {},
   "source": [
    "#### **5. Train the Model**"
   ]
  },
  {
   "cell_type": "code",
   "execution_count": 12,
   "id": "eadaaefa",
   "metadata": {},
   "outputs": [
    {
     "name": "stdout",
     "output_type": "stream",
     "text": [
      "Step 0: loss = 4.8691\n",
      "Step 100: loss = 2.4615\n",
      "Step 200: loss = 2.2264\n",
      "Step 300: loss = 2.1552\n",
      "Step 400: loss = 2.1444\n",
      "Step 500: loss = 2.1298\n",
      "Step 600: loss = 2.1937\n",
      "Step 700: loss = 2.1448\n",
      "Step 800: loss = 2.1668\n",
      "Step 900: loss = 2.1780\n"
     ]
    }
   ],
   "source": [
    "model = TinyTransformer(vocabs_size, n_embed=128)\n",
    "optimizer = torch.optim.AdamW(model.parameters(), lr=1e-3)\n",
    "\n",
    "for step in range(1000):\n",
    "    xb, yb = get_batch(\"train\")\n",
    "    logits, loss = model(xb, yb)\n",
    "    optimizer.zero_grad()\n",
    "    loss.backward()\n",
    "    optimizer.step()\n",
    "\n",
    "    if step % 100 == 0:\n",
    "        print(f\"Step {step}: loss = {loss.item():.4f}\")\n"
   ]
  },
  {
   "cell_type": "markdown",
   "id": "e99b8115",
   "metadata": {},
   "source": [
    "#### **6. Generate the text from the model**\n",
    "- use the sampling to generate new quantum mechanics like text"
   ]
  },
  {
   "cell_type": "code",
   "execution_count": 13,
   "id": "b02ef34a",
   "metadata": {},
   "outputs": [
    {
     "name": "stdout",
     "output_type": "stream",
     "text": [
      "Quantumprctont Dec  pes |0. Quaty ac /∂² mpant |\n",
      "--\n",
      "|^2.2\n",
      "3 tio atiħ\n",
      "--- pre, tity  cen asing dos. Fua at:\n",
      "|1  LLL\n",
      "-- past Ophesilen iounclesendanfonedongraun qung m----- D[x\n",
      "\n",
      "\n",
      "\n",
      "-------  at) Than ----  |\n",
      "|² \n"
     ]
    }
   ],
   "source": [
    "def generate(model, start_text=\"Quantum\", max_new_tokens=200):\n",
    "    model.eval()\n",
    "    context = torch.tensor(encode(start_text), dtype=torch.long)[None, :]  # (1, T)\n",
    "    for _ in range(max_new_tokens):\n",
    "        logits, _ = model(context)\n",
    "        logits = logits[:, -1, :]\n",
    "        probs = F.softmax(logits, dim=-1)\n",
    "        next_id = torch.multinomial(probs, num_samples=1)\n",
    "        context = torch.cat([context, next_id], dim=1)\n",
    "    return decode(context[0].tolist())\n",
    "\n",
    "print(generate(model))\n"
   ]
  },
  {
   "cell_type": "code",
   "execution_count": null,
   "id": "80fe2a7c",
   "metadata": {},
   "outputs": [],
   "source": []
  }
 ],
 "metadata": {
  "kernelspec": {
   "display_name": "Python 3",
   "language": "python",
   "name": "python3"
  },
  "language_info": {
   "codemirror_mode": {
    "name": "ipython",
    "version": 3
   },
   "file_extension": ".py",
   "mimetype": "text/x-python",
   "name": "python",
   "nbconvert_exporter": "python",
   "pygments_lexer": "ipython3",
   "version": "3.10.17"
  }
 },
 "nbformat": 4,
 "nbformat_minor": 5
}
